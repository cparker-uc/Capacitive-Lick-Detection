{
 "cells": [
  {
   "cell_type": "markdown",
   "metadata": {},
   "source": [
    "# MPR121 Data Recording Notebook\n",
    "\n",
    "Author: Christopher Parker (parkecp@mail.uc.edu)\n",
    "\n",
    "I've tried to make this as user-friendly as possible, but feel free to reach out with any questions."
   ]
  },
  {
   "cell_type": "markdown",
   "metadata": {},
   "source": [
    "### Imports"
   ]
  },
  {
   "cell_type": "code",
   "execution_count": 23,
   "metadata": {},
   "outputs": [],
   "source": [
    "# Basic libraries\n",
    "import os\n",
    "os.environ['BLINKA_MPR121'] = '1'\n",
    "os.environ['BLINKA_FT232H'] = '1'\n",
    "import time\n",
    "import datetime\n",
    "from collections import deque\n",
    "\n",
    "# For writing data to file\n",
    "import h5py\n",
    "\n",
    "# Libraries for the MPR121 capacitive touch sensor\n",
    "import board\n",
    "import busio\n",
    "import adafruit_mpr121\n",
    "\n",
    "# For profiling performance\n",
    "import cProfile"
   ]
  },
  {
   "cell_type": "markdown",
   "metadata": {},
   "source": [
    "### Device Configuration and Constant Declarations"
   ]
  },
  {
   "cell_type": "code",
   "execution_count": 24,
   "metadata": {},
   "outputs": [],
   "source": [
    "i2c = busio.I2C(board.SCL, board.SDA, frequency=400000)\n",
    "# Despite not using this object later, it is necessary to initialize the MPR121\n",
    "# like this. I'm not sure why, but it just returns 0x00 from all registers\n",
    "# sometimes, and this seemed to fix it.\n",
    "mpr121 = adafruit_mpr121.MPR121(i2c)\n",
    "mpr121_address = 0x5A  # Default I2C address for the MPR121\n",
    "start_reg = 0x04       # Starting register for filtered (raw) data\n",
    "raw_buffer = bytearray(24)  # 24 bytes for 12 electrodes (2 bytes each)\n",
    "\n",
    "# How many sensor samples we want to store before writing\n",
    "HISTORY_SIZE = 1000\n"
   ]
  },
  {
   "cell_type": "markdown",
   "metadata": {},
   "source": [
    "### Widget Setup"
   ]
  },
  {
   "cell_type": "code",
   "execution_count": null,
   "metadata": {},
   "outputs": [],
   "source": []
  },
  {
   "cell_type": "markdown",
   "metadata": {},
   "source": [
    "### Recording Function"
   ]
  },
  {
   "cell_type": "code",
   "execution_count": 25,
   "metadata": {},
   "outputs": [],
   "source": [
    "def record():\n",
    "    # Time data (for each channel, because they are updated independently)\n",
    "    # We use deques here because they are more efficient for appending and popping\n",
    "    time_data = deque(maxlen=12)\n",
    "    # Capacitance data (again for each channel)\n",
    "    cap_data = deque(maxlen=12)\n",
    "    while not i2c.try_lock():\n",
    "        pass\n",
    "    try:\n",
    "        i2c.writeto_then_readfrom(mpr121_address, bytes([start_reg]), raw_buffer)\n",
    "    finally:\n",
    "        i2c.unlock()\n",
    "\n",
    "    # Process the raw data for each electrode\n",
    "    for chan in range(12):\n",
    "        # Combine the two bytes (little-endian) for each electrode\n",
    "        value = raw_buffer[2 * chan] | (raw_buffer[2 * chan + 1] << 8)\n",
    "\n",
    "        # Save the value to the cap_data list and the current time to the time_data deque\n",
    "        cap_data.append(value)            \n",
    "        time_data.append(time.time())\n",
    "    return time_data, cap_data"
   ]
  },
  {
   "cell_type": "markdown",
   "metadata": {},
   "source": [
    "## Start Recording Here"
   ]
  },
  {
   "cell_type": "code",
   "execution_count": null,
   "metadata": {},
   "outputs": [
    {
     "name": "stdout",
     "output_type": "stream",
     "text": [
      "Write time: 0.018749237060546875\n"
     ]
    },
    {
     "ename": "KeyboardInterrupt",
     "evalue": "",
     "output_type": "error",
     "traceback": [
      "\u001b[31m---------------------------------------------------------------------------\u001b[39m",
      "\u001b[31mKeyboardInterrupt\u001b[39m                         Traceback (most recent call last)",
      "\u001b[36mCell\u001b[39m\u001b[36m \u001b[39m\u001b[32mIn[27]\u001b[39m\u001b[32m, line 8\u001b[39m\n\u001b[32m      6\u001b[39m \u001b[38;5;28;01mwhile\u001b[39;00m \u001b[38;5;129;01mnot\u001b[39;00m stop:\n\u001b[32m      7\u001b[39m     start_time = time.time()\n\u001b[32m----> \u001b[39m\u001b[32m8\u001b[39m     _time_data, _cap_data = \u001b[43mrecord\u001b[49m\u001b[43m(\u001b[49m\u001b[43m)\u001b[49m\n\u001b[32m      9\u001b[39m     \u001b[38;5;66;03m# Append data to the corresponding deques\u001b[39;00m\n\u001b[32m     10\u001b[39m     \u001b[38;5;28;01mfor\u001b[39;00m channel_idx, (time_point, cap_point) \u001b[38;5;129;01min\u001b[39;00m \u001b[38;5;28menumerate\u001b[39m(\u001b[38;5;28mzip\u001b[39m(_time_data, _cap_data)):\n",
      "\u001b[36mCell\u001b[39m\u001b[36m \u001b[39m\u001b[32mIn[25]\u001b[39m\u001b[32m, line 10\u001b[39m, in \u001b[36mrecord\u001b[39m\u001b[34m()\u001b[39m\n\u001b[32m      8\u001b[39m     \u001b[38;5;28;01mpass\u001b[39;00m\n\u001b[32m      9\u001b[39m \u001b[38;5;28;01mtry\u001b[39;00m:\n\u001b[32m---> \u001b[39m\u001b[32m10\u001b[39m     \u001b[43mi2c\u001b[49m\u001b[43m.\u001b[49m\u001b[43mwriteto_then_readfrom\u001b[49m\u001b[43m(\u001b[49m\u001b[43mmpr121_address\u001b[49m\u001b[43m,\u001b[49m\u001b[43m \u001b[49m\u001b[38;5;28;43mbytes\u001b[39;49m\u001b[43m(\u001b[49m\u001b[43m[\u001b[49m\u001b[43mstart_reg\u001b[49m\u001b[43m]\u001b[49m\u001b[43m)\u001b[49m\u001b[43m,\u001b[49m\u001b[43m \u001b[49m\u001b[43mraw_buffer\u001b[49m\u001b[43m)\u001b[49m\n\u001b[32m     11\u001b[39m \u001b[38;5;28;01mfinally\u001b[39;00m:\n\u001b[32m     12\u001b[39m     i2c.unlock()\n",
      "\u001b[36mFile \u001b[39m\u001b[32mc:\\Users\\cpark\\TimmeLab\\Capacitive Lick Detection\\.venv\\Lib\\site-packages\\busio.py:232\u001b[39m, in \u001b[36mI2C.writeto_then_readfrom\u001b[39m\u001b[34m(self, address, buffer_out, buffer_in, out_start, out_end, in_start, in_end, stop)\u001b[39m\n\u001b[32m    217\u001b[39m \u001b[38;5;28;01mdef\u001b[39;00m\u001b[38;5;250m \u001b[39m\u001b[34mwriteto_then_readfrom\u001b[39m(\n\u001b[32m    218\u001b[39m     \u001b[38;5;28mself\u001b[39m,\n\u001b[32m    219\u001b[39m     address,\n\u001b[32m   (...)\u001b[39m\u001b[32m    227\u001b[39m     stop=\u001b[38;5;28;01mFalse\u001b[39;00m,\n\u001b[32m    228\u001b[39m ):\n\u001b[32m    229\u001b[39m \u001b[38;5;250m    \u001b[39m\u001b[33;03m\"\"\" \"Write to a device at specified address from a buffer then read\u001b[39;00m\n\u001b[32m    230\u001b[39m \u001b[33;03m    from a device at specified address into a buffer\u001b[39;00m\n\u001b[32m    231\u001b[39m \u001b[33;03m    \"\"\"\u001b[39;00m\n\u001b[32m--> \u001b[39m\u001b[32m232\u001b[39m     \u001b[38;5;28;01mreturn\u001b[39;00m \u001b[38;5;28;43mself\u001b[39;49m\u001b[43m.\u001b[49m\u001b[43m_i2c\u001b[49m\u001b[43m.\u001b[49m\u001b[43mwriteto_then_readfrom\u001b[49m\u001b[43m(\u001b[49m\n\u001b[32m    233\u001b[39m \u001b[43m        \u001b[49m\u001b[43maddress\u001b[49m\u001b[43m,\u001b[49m\n\u001b[32m    234\u001b[39m \u001b[43m        \u001b[49m\u001b[43mbuffer_out\u001b[49m\u001b[43m,\u001b[49m\n\u001b[32m    235\u001b[39m \u001b[43m        \u001b[49m\u001b[43mbuffer_in\u001b[49m\u001b[43m,\u001b[49m\n\u001b[32m    236\u001b[39m \u001b[43m        \u001b[49m\u001b[43mout_start\u001b[49m\u001b[43m=\u001b[49m\u001b[43mout_start\u001b[49m\u001b[43m,\u001b[49m\n\u001b[32m    237\u001b[39m \u001b[43m        \u001b[49m\u001b[43mout_end\u001b[49m\u001b[43m=\u001b[49m\u001b[43mout_end\u001b[49m\u001b[43m,\u001b[49m\n\u001b[32m    238\u001b[39m \u001b[43m        \u001b[49m\u001b[43min_start\u001b[49m\u001b[43m=\u001b[49m\u001b[43min_start\u001b[49m\u001b[43m,\u001b[49m\n\u001b[32m    239\u001b[39m \u001b[43m        \u001b[49m\u001b[43min_end\u001b[49m\u001b[43m=\u001b[49m\u001b[43min_end\u001b[49m\u001b[43m,\u001b[49m\n\u001b[32m    240\u001b[39m \u001b[43m        \u001b[49m\u001b[43mstop\u001b[49m\u001b[43m=\u001b[49m\u001b[43mstop\u001b[49m\u001b[43m,\u001b[49m\n\u001b[32m    241\u001b[39m \u001b[43m    \u001b[49m\u001b[43m)\u001b[49m\n",
      "\u001b[36mFile \u001b[39m\u001b[32mc:\\Users\\cpark\\TimmeLab\\Capacitive Lick Detection\\.venv\\Lib\\site-packages\\adafruit_blinka\\microcontroller\\ftdi_mpsse\\mpsse\\i2c.py:75\u001b[39m, in \u001b[36mI2C.writeto_then_readfrom\u001b[39m\u001b[34m(self, address, buffer_out, buffer_in, out_start, out_end, in_start, in_end, stop)\u001b[39m\n\u001b[32m     73\u001b[39m in_end = in_end \u001b[38;5;28;01mif\u001b[39;00m in_end \u001b[38;5;28;01melse\u001b[39;00m \u001b[38;5;28mlen\u001b[39m(buffer_in)\n\u001b[32m     74\u001b[39m port = \u001b[38;5;28mself\u001b[39m._i2c.get_port(address)\n\u001b[32m---> \u001b[39m\u001b[32m75\u001b[39m result = \u001b[43mport\u001b[49m\u001b[43m.\u001b[49m\u001b[43mexchange\u001b[49m\u001b[43m(\u001b[49m\n\u001b[32m     76\u001b[39m \u001b[43m    \u001b[49m\u001b[43mbuffer_out\u001b[49m\u001b[43m[\u001b[49m\u001b[43mout_start\u001b[49m\u001b[43m:\u001b[49m\u001b[43mout_end\u001b[49m\u001b[43m]\u001b[49m\u001b[43m,\u001b[49m\u001b[43m \u001b[49m\u001b[43min_end\u001b[49m\u001b[43m \u001b[49m\u001b[43m-\u001b[49m\u001b[43m \u001b[49m\u001b[43min_start\u001b[49m\u001b[43m,\u001b[49m\u001b[43m \u001b[49m\u001b[43mrelax\u001b[49m\u001b[43m=\u001b[49m\u001b[38;5;28;43;01mTrue\u001b[39;49;00m\n\u001b[32m     77\u001b[39m \u001b[43m\u001b[49m\u001b[43m)\u001b[49m\n\u001b[32m     78\u001b[39m \u001b[38;5;28;01mfor\u001b[39;00m i, b \u001b[38;5;129;01min\u001b[39;00m \u001b[38;5;28menumerate\u001b[39m(result):\n\u001b[32m     79\u001b[39m     buffer_in[in_start + i] = b\n",
      "\u001b[36mFile \u001b[39m\u001b[32mc:\\Users\\cpark\\TimmeLab\\Capacitive Lick Detection\\.venv\\Lib\\site-packages\\pyftdi\\i2c.py:154\u001b[39m, in \u001b[36mI2cPort.exchange\u001b[39m\u001b[34m(self, out, readlen, relax, start)\u001b[39m\n\u001b[32m    141\u001b[39m \u001b[38;5;28;01mdef\u001b[39;00m\u001b[38;5;250m \u001b[39m\u001b[34mexchange\u001b[39m(\u001b[38;5;28mself\u001b[39m, out: Union[\u001b[38;5;28mbytes\u001b[39m, \u001b[38;5;28mbytearray\u001b[39m, Iterable[\u001b[38;5;28mint\u001b[39m]] = \u001b[33mb\u001b[39m\u001b[33m'\u001b[39m\u001b[33m'\u001b[39m,\n\u001b[32m    142\u001b[39m              readlen: \u001b[38;5;28mint\u001b[39m = \u001b[32m0\u001b[39m,\n\u001b[32m    143\u001b[39m              relax: \u001b[38;5;28mbool\u001b[39m = \u001b[38;5;28;01mTrue\u001b[39;00m, start: \u001b[38;5;28mbool\u001b[39m = \u001b[38;5;28;01mTrue\u001b[39;00m) -> \u001b[38;5;28mbytes\u001b[39m:\n\u001b[32m    144\u001b[39m \u001b[38;5;250m    \u001b[39m\u001b[33;03m\"\"\"Perform an exchange or a transaction with the I2c slave\u001b[39;00m\n\u001b[32m    145\u001b[39m \n\u001b[32m    146\u001b[39m \u001b[33;03m       :param out: an array of bytes to send to the I2c slave,\u001b[39;00m\n\u001b[32m   (...)\u001b[39m\u001b[32m    152\u001b[39m \u001b[33;03m       :return: data read out from the slave\u001b[39;00m\n\u001b[32m    153\u001b[39m \u001b[33;03m    \"\"\"\u001b[39;00m\n\u001b[32m--> \u001b[39m\u001b[32m154\u001b[39m     \u001b[38;5;28;01mreturn\u001b[39;00m \u001b[38;5;28;43mself\u001b[39;49m\u001b[43m.\u001b[49m\u001b[43m_controller\u001b[49m\u001b[43m.\u001b[49m\u001b[43mexchange\u001b[49m\u001b[43m(\u001b[49m\n\u001b[32m    155\u001b[39m \u001b[43m        \u001b[49m\u001b[38;5;28;43mself\u001b[39;49m\u001b[43m.\u001b[49m\u001b[43m_address\u001b[49m\u001b[43m+\u001b[49m\u001b[38;5;28;43mself\u001b[39;49m\u001b[43m.\u001b[49m\u001b[43m_shift\u001b[49m\u001b[43m \u001b[49m\u001b[38;5;28;43;01mif\u001b[39;49;00m\u001b[43m \u001b[49m\u001b[43mstart\u001b[49m\u001b[43m \u001b[49m\u001b[38;5;28;43;01melse\u001b[39;49;00m\u001b[43m \u001b[49m\u001b[38;5;28;43;01mNone\u001b[39;49;00m\u001b[43m,\u001b[49m\u001b[43m \u001b[49m\u001b[43mout\u001b[49m\u001b[43m,\u001b[49m\n\u001b[32m    156\u001b[39m \u001b[43m        \u001b[49m\u001b[43mreadlen\u001b[49m\u001b[43m,\u001b[49m\u001b[43m \u001b[49m\u001b[43mrelax\u001b[49m\u001b[43m=\u001b[49m\u001b[43mrelax\u001b[49m\u001b[43m)\u001b[49m\n",
      "\u001b[36mFile \u001b[39m\u001b[32mc:\\Users\\cpark\\TimmeLab\\Capacitive Lick Detection\\.venv\\Lib\\site-packages\\pyftdi\\i2c.py:790\u001b[39m, in \u001b[36mI2cController.exchange\u001b[39m\u001b[34m(self, address, out, readlen, relax)\u001b[39m\n\u001b[32m    788\u001b[39m \u001b[38;5;28;01mfinally\u001b[39;00m:\n\u001b[32m    789\u001b[39m     \u001b[38;5;28;01mif\u001b[39;00m do_epilog:\n\u001b[32m--> \u001b[39m\u001b[32m790\u001b[39m         \u001b[38;5;28;43mself\u001b[39;49m\u001b[43m.\u001b[49m\u001b[43m_do_epilog\u001b[49m\u001b[43m(\u001b[49m\u001b[43m)\u001b[49m\n",
      "\u001b[36mFile \u001b[39m\u001b[32mc:\\Users\\cpark\\TimmeLab\\Capacitive Lick Detection\\.venv\\Lib\\site-packages\\pyftdi\\i2c.py:1045\u001b[39m, in \u001b[36mI2cController._do_epilog\u001b[39m\u001b[34m(self)\u001b[39m\n\u001b[32m   1043\u001b[39m \u001b[38;5;28mself\u001b[39m._ftdi.write_data(cmd)\n\u001b[32m   1044\u001b[39m \u001b[38;5;66;03m# be sure to purge the MPSSE reply\u001b[39;00m\n\u001b[32m-> \u001b[39m\u001b[32m1045\u001b[39m \u001b[38;5;28;43mself\u001b[39;49m\u001b[43m.\u001b[49m\u001b[43m_ftdi\u001b[49m\u001b[43m.\u001b[49m\u001b[43mread_data_bytes\u001b[49m\u001b[43m(\u001b[49m\u001b[32;43m1\u001b[39;49m\u001b[43m,\u001b[49m\u001b[43m \u001b[49m\u001b[32;43m1\u001b[39;49m\u001b[43m)\u001b[49m\n",
      "\u001b[36mFile \u001b[39m\u001b[32mc:\\Users\\cpark\\TimmeLab\\Capacitive Lick Detection\\.venv\\Lib\\site-packages\\pyftdi\\ftdi.py:1839\u001b[39m, in \u001b[36mFtdi.read_data_bytes\u001b[39m\u001b[34m(self, size, attempt, request_gen)\u001b[39m\n\u001b[32m   1837\u001b[39m \u001b[38;5;28;01mwhile\u001b[39;00m (\u001b[38;5;28mlen\u001b[39m(data) < size) \u001b[38;5;129;01mand\u001b[39;00m (length > \u001b[32m0\u001b[39m):\n\u001b[32m   1838\u001b[39m     \u001b[38;5;28;01mwhile\u001b[39;00m \u001b[38;5;28;01mTrue\u001b[39;00m:\n\u001b[32m-> \u001b[39m\u001b[32m1839\u001b[39m         tempbuf = \u001b[38;5;28;43mself\u001b[39;49m\u001b[43m.\u001b[49m\u001b[43m_read\u001b[49m\u001b[43m(\u001b[49m\u001b[43m)\u001b[49m\n\u001b[32m   1840\u001b[39m         retry -= \u001b[32m1\u001b[39m\n\u001b[32m   1841\u001b[39m         length = \u001b[38;5;28mlen\u001b[39m(tempbuf)\n",
      "\u001b[36mFile \u001b[39m\u001b[32mc:\\Users\\cpark\\TimmeLab\\Capacitive Lick Detection\\.venv\\Lib\\site-packages\\pyftdi\\ftdi.py:2090\u001b[39m, in \u001b[36mFtdi._read\u001b[39m\u001b[34m(self)\u001b[39m\n\u001b[32m   2088\u001b[39m \u001b[38;5;28;01mdef\u001b[39;00m\u001b[38;5;250m \u001b[39m\u001b[34m_read\u001b[39m(\u001b[38;5;28mself\u001b[39m) -> \u001b[38;5;28mbytes\u001b[39m:\n\u001b[32m   2089\u001b[39m     \u001b[38;5;28;01mtry\u001b[39;00m:\n\u001b[32m-> \u001b[39m\u001b[32m2090\u001b[39m         data = \u001b[38;5;28;43mself\u001b[39;49m\u001b[43m.\u001b[49m\u001b[43m_usb_dev\u001b[49m\u001b[43m.\u001b[49m\u001b[43mread\u001b[49m\u001b[43m(\u001b[49m\u001b[38;5;28;43mself\u001b[39;49m\u001b[43m.\u001b[49m\u001b[43m_out_ep\u001b[49m\u001b[43m,\u001b[49m\u001b[43m \u001b[49m\u001b[38;5;28;43mself\u001b[39;49m\u001b[43m.\u001b[49m\u001b[43m_readbuffer_chunksize\u001b[49m\u001b[43m,\u001b[49m\n\u001b[32m   2091\u001b[39m \u001b[43m                                  \u001b[49m\u001b[38;5;28;43mself\u001b[39;49m\u001b[43m.\u001b[49m\u001b[43m_usb_read_timeout\u001b[49m\u001b[43m)\u001b[49m\n\u001b[32m   2092\u001b[39m     \u001b[38;5;28;01mexcept\u001b[39;00m USBError \u001b[38;5;28;01mas\u001b[39;00m exc:\n\u001b[32m   2093\u001b[39m         \u001b[38;5;28;01mraise\u001b[39;00m FtdiError(\u001b[33mf\u001b[39m\u001b[33m'\u001b[39m\u001b[33mUsbError: \u001b[39m\u001b[38;5;132;01m{\u001b[39;00mexc\u001b[38;5;132;01m}\u001b[39;00m\u001b[33m'\u001b[39m) \u001b[38;5;28;01mfrom\u001b[39;00m\u001b[38;5;250m \u001b[39m\u001b[38;5;28;01mNone\u001b[39;00m\n",
      "\u001b[36mFile \u001b[39m\u001b[32mc:\\Users\\cpark\\TimmeLab\\Capacitive Lick Detection\\.venv\\Lib\\site-packages\\usb\\core.py:1043\u001b[39m, in \u001b[36mDevice.read\u001b[39m\u001b[34m(self, endpoint, size_or_buffer, timeout)\u001b[39m\n\u001b[32m   1040\u001b[39m \u001b[38;5;28;01melse\u001b[39;00m: \u001b[38;5;66;03m# here we consider it is a integer\u001b[39;00m\n\u001b[32m   1041\u001b[39m     buff = util.create_buffer(size_or_buffer)\n\u001b[32m-> \u001b[39m\u001b[32m1043\u001b[39m ret = \u001b[43mfn\u001b[49m\u001b[43m(\u001b[49m\n\u001b[32m   1044\u001b[39m \u001b[43m        \u001b[49m\u001b[38;5;28;43mself\u001b[39;49m\u001b[43m.\u001b[49m\u001b[43m_ctx\u001b[49m\u001b[43m.\u001b[49m\u001b[43mhandle\u001b[49m\u001b[43m,\u001b[49m\n\u001b[32m   1045\u001b[39m \u001b[43m        \u001b[49m\u001b[43mep\u001b[49m\u001b[43m.\u001b[49m\u001b[43mbEndpointAddress\u001b[49m\u001b[43m,\u001b[49m\n\u001b[32m   1046\u001b[39m \u001b[43m        \u001b[49m\u001b[43mintf\u001b[49m\u001b[43m.\u001b[49m\u001b[43mbInterfaceNumber\u001b[49m\u001b[43m,\u001b[49m\n\u001b[32m   1047\u001b[39m \u001b[43m        \u001b[49m\u001b[43mbuff\u001b[49m\u001b[43m,\u001b[49m\n\u001b[32m   1048\u001b[39m \u001b[43m        \u001b[49m\u001b[38;5;28;43mself\u001b[39;49m\u001b[43m.\u001b[49m\u001b[43m__get_timeout\u001b[49m\u001b[43m(\u001b[49m\u001b[43mtimeout\u001b[49m\u001b[43m)\u001b[49m\u001b[43m)\u001b[49m\n\u001b[32m   1050\u001b[39m \u001b[38;5;28;01mif\u001b[39;00m \u001b[38;5;28misinstance\u001b[39m(size_or_buffer, array.array):\n\u001b[32m   1051\u001b[39m     \u001b[38;5;28;01mreturn\u001b[39;00m ret\n",
      "\u001b[36mFile \u001b[39m\u001b[32mc:\\Users\\cpark\\TimmeLab\\Capacitive Lick Detection\\.venv\\Lib\\site-packages\\usb\\backend\\libusb0.py:553\u001b[39m, in \u001b[36m_LibUSB.bulk_read\u001b[39m\u001b[34m(self, dev_handle, ep, intf, buff, timeout)\u001b[39m\n\u001b[32m    551\u001b[39m \u001b[38;5;129m@methodtrace\u001b[39m(_logger)\n\u001b[32m    552\u001b[39m \u001b[38;5;28;01mdef\u001b[39;00m\u001b[38;5;250m \u001b[39m\u001b[34mbulk_read\u001b[39m(\u001b[38;5;28mself\u001b[39m, dev_handle, ep, intf, buff, timeout):\n\u001b[32m--> \u001b[39m\u001b[32m553\u001b[39m     \u001b[38;5;28;01mreturn\u001b[39;00m \u001b[38;5;28;43mself\u001b[39;49m\u001b[43m.\u001b[49m\u001b[43m__read\u001b[49m\u001b[43m(\u001b[49m\u001b[43m_lib\u001b[49m\u001b[43m.\u001b[49m\u001b[43musb_bulk_read\u001b[49m\u001b[43m,\u001b[49m\n\u001b[32m    554\u001b[39m \u001b[43m                       \u001b[49m\u001b[43mdev_handle\u001b[49m\u001b[43m,\u001b[49m\n\u001b[32m    555\u001b[39m \u001b[43m                       \u001b[49m\u001b[43mep\u001b[49m\u001b[43m,\u001b[49m\n\u001b[32m    556\u001b[39m \u001b[43m                       \u001b[49m\u001b[43mintf\u001b[49m\u001b[43m,\u001b[49m\n\u001b[32m    557\u001b[39m \u001b[43m                       \u001b[49m\u001b[43mbuff\u001b[49m\u001b[43m,\u001b[49m\n\u001b[32m    558\u001b[39m \u001b[43m                       \u001b[49m\u001b[43mtimeout\u001b[49m\u001b[43m)\u001b[49m\n",
      "\u001b[36mFile \u001b[39m\u001b[32mc:\\Users\\cpark\\TimmeLab\\Capacitive Lick Detection\\.venv\\Lib\\site-packages\\usb\\backend\\libusb0.py:692\u001b[39m, in \u001b[36m_LibUSB.__read\u001b[39m\u001b[34m(self, fn, dev_handle, ep, intf, buff, timeout)\u001b[39m\n\u001b[32m    690\u001b[39m address, length = buff.buffer_info()\n\u001b[32m    691\u001b[39m length *= buff.itemsize\n\u001b[32m--> \u001b[39m\u001b[32m692\u001b[39m ret = \u001b[38;5;28mint\u001b[39m(_check(\u001b[43mfn\u001b[49m\u001b[43m(\u001b[49m\n\u001b[32m    693\u001b[39m \u001b[43m            \u001b[49m\u001b[43mdev_handle\u001b[49m\u001b[43m,\u001b[49m\n\u001b[32m    694\u001b[39m \u001b[43m            \u001b[49m\u001b[43mep\u001b[49m\u001b[43m,\u001b[49m\n\u001b[32m    695\u001b[39m \u001b[43m            \u001b[49m\u001b[43mcast\u001b[49m\u001b[43m(\u001b[49m\u001b[43maddress\u001b[49m\u001b[43m,\u001b[49m\u001b[43m \u001b[49m\u001b[43mc_char_p\u001b[49m\u001b[43m)\u001b[49m\u001b[43m,\u001b[49m\n\u001b[32m    696\u001b[39m \u001b[43m            \u001b[49m\u001b[43mlength\u001b[49m\u001b[43m,\u001b[49m\n\u001b[32m    697\u001b[39m \u001b[43m            \u001b[49m\u001b[43mtimeout\u001b[49m\n\u001b[32m    698\u001b[39m \u001b[43m        \u001b[49m\u001b[43m)\u001b[49m))\n\u001b[32m    699\u001b[39m \u001b[38;5;28;01mreturn\u001b[39;00m ret\n",
      "\u001b[31mKeyboardInterrupt\u001b[39m: "
     ]
    }
   ],
   "source": [
    "stop = False # Flag to stop the loop\n",
    "time_data = deque([deque(maxlen=HISTORY_SIZE) for _ in range(12)])\n",
    "cap_data = deque([deque(maxlen=HISTORY_SIZE) for _ in range(12)])\n",
    "loop_ctr = 0\n",
    "with h5py.File(f\"raw_data_{datetime.datetime.now().strftime('%Y-%m-%d_%H-%M-%S')}.h5\", \"w\") as h5f:\n",
    "    while not stop:\n",
    "        #start_time = time.time()\n",
    "        _time_data, _cap_data = record()\n",
    "        # Append data to the corresponding deques\n",
    "        for channel_idx, (time_point, cap_point) in enumerate(zip(_time_data, _cap_data)):\n",
    "            time_data[channel_idx].append(time_point)\n",
    "            cap_data[channel_idx].append(cap_point)\n",
    "        #loop_time = time.time()\n",
    "        #print(f\"Loop time: {loop_time - start_time}\")\n",
    "        if loop_ctr == 1000:\n",
    "            h5f.create_dataset(\"time_data\", data=time_data, chunks=(12, 1000), maxshape=(12, None))\n",
    "            h5f.create_dataset(\"cap_data\", data=cap_data, dtype='i2', chunks=(12, 1000), maxshape=(12, None))\n",
    "        elif loop_ctr != 0 and loop_ctr%1000 == 0:\n",
    "            h5f[\"time_data\"].resize((12, loop_ctr + HISTORY_SIZE))\n",
    "            h5f[\"cap_data\"].resize((12, loop_ctr + HISTORY_SIZE))\n",
    "            h5f[\"time_data\"][:, loop_ctr:loop_ctr + HISTORY_SIZE] = time_data\n",
    "            h5f[\"cap_data\"][:, loop_ctr:loop_ctr + HISTORY_SIZE] = cap_data\n",
    "            #print(f\"Write time: {time.time() - start_time}\")\n",
    "        # Stop after a set number of reads for now\n",
    "        if loop_ctr == 10000:\n",
    "            stop = True\n",
    "        loop_ctr += 1"
   ]
  },
  {
   "cell_type": "code",
   "execution_count": null,
   "metadata": {},
   "outputs": [],
   "source": []
  }
 ],
 "metadata": {
  "kernelspec": {
   "display_name": ".venv",
   "language": "python",
   "name": "python3"
  },
  "language_info": {
   "codemirror_mode": {
    "name": "ipython",
    "version": 3
   },
   "file_extension": ".py",
   "mimetype": "text/x-python",
   "name": "python",
   "nbconvert_exporter": "python",
   "pygments_lexer": "ipython3",
   "version": "3.12.6"
  }
 },
 "nbformat": 4,
 "nbformat_minor": 4
}
