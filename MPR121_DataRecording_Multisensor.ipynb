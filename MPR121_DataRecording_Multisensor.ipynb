{
 "cells": [
  {
   "cell_type": "markdown",
   "metadata": {},
   "source": [
    "# MPR121 Data Recording Notebook\n",
    "\n",
    "Author: Christopher Parker (parkecp@mail.uc.edu)\n",
    "\n",
    "I've tried to make this as user-friendly as possible, but feel free to reach out with any questions."
   ]
  },
  {
   "cell_type": "markdown",
   "metadata": {
    "jp-MarkdownHeadingCollapsed": true
   },
   "source": [
    "# Imports, Board Configuration and Function Definitions"
   ]
  },
  {
   "cell_type": "code",
   "execution_count": 1,
   "metadata": {},
   "outputs": [],
   "source": [
    "# Basic libraries\n",
    "import os\n",
    "os.environ['BLINKA_MPR121'] = '1'\n",
    "os.environ['BLINKA_FT232H'] = '1'\n",
    "import time\n",
    "import datetime\n",
    "from collections import deque\n",
    "\n",
    "# For writing data to file\n",
    "import h5py\n",
    "\n",
    "# Libraries for FTDI and I2C\n",
    "from pyftdi.i2c import I2cController\n",
    "from pyftdi.usbtools import UsbTools\n",
    "\n",
    "# Multiprocessing and Asynchronous Execution\n",
    "from concurrent.futures import ThreadPoolExecutor\n",
    "import asyncio\n",
    "\n",
    "# Widgets\n",
    "import ipywidgets as widgets\n",
    "from IPython.display import display\n",
    "\n",
    "# Graphing (for test buttons)\n",
    "import matplotlib.pyplot as plt"
   ]
  },
  {
   "cell_type": "markdown",
   "metadata": {},
   "source": [
    "## Device Configuration and Constant Declarations"
   ]
  },
  {
   "cell_type": "markdown",
   "metadata": {},
   "source": [
    "Before we start recording, we need to configure the MPR121s.\n",
    "\n",
    "Normally, this would be done automatically by the Adafruit Blinka package, but we cannot use that (because it only allows 1 FT232H at a time).\n",
    "So instead, we have to use the pyftdi package (which is what Adafruit Blinka uses, also) and manually determine which registers need to be written/read."
   ]
  },
  {
   "cell_type": "markdown",
   "metadata": {},
   "source": [
    "Before we start recording, we need to configure the MPR121s.\n",
    "\n",
    "Normally, this would be done automatically by the Adafruit Blinka package, but we cannot use that (because it only allows 1 FT232H at a time). So instead, we have to use the pyftdi package (which is what Adafruit Blinka uses, also) and manually determine which registers need to be written/read."
   ]
  },
  {
   "cell_type": "code",
   "execution_count": 2,
   "metadata": {},
   "outputs": [],
   "source": [
    "# Register Addresses\n",
    "SOFT_RESET = 0x80\n",
    "CONFIG = 0x5E\n",
    "DATA = 0x04\n",
    "\n",
    "# How many sensor samples we want to store before writing\n",
    "HISTORY_SIZE = 100\n",
    "\n",
    "# 12 channels per MPR121, just defining a constant\n",
    "# for clarity\n",
    "NUM_CHANNELS = 12\n",
    "\n",
    "# Filename for saving data (placeholder, will be set below)\n",
    "filename = \"\""
   ]
  },
  {
   "cell_type": "code",
   "execution_count": 3,
   "metadata": {},
   "outputs": [],
   "source": [
    "# Find all devices with the given vendor and product IDs\n",
    "# These correspond to the FT232H\n",
    "devices = UsbTools.find_all([(0x0403, 0x6014)])\n",
    "\n",
    "NUM_BOARDS = len(devices)\n",
    "NUM_SENSORS_TOTAL = NUM_BOARDS*12"
   ]
  },
  {
   "cell_type": "code",
   "execution_count": 4,
   "metadata": {},
   "outputs": [
    {
     "data": {
      "text/plain": [
       "[(UsbDeviceDescriptor(vid=1027, pid=24596, bus=0, address=255, sn='FT232H1', index=None, description='\\uffff\\uffff\\uffff\\uffff\\uffff\\uffff'),\n",
       "  1),\n",
       " (UsbDeviceDescriptor(vid=1027, pid=24596, bus=0, address=254, sn='FT232H0', index=None, description='\\uffff\\uffff\\uffff\\uffff\\uffff\\uffff'),\n",
       "  1)]"
      ]
     },
     "execution_count": 4,
     "metadata": {},
     "output_type": "execute_result"
    }
   ],
   "source": [
    "devices"
   ]
  },
  {
   "cell_type": "code",
   "execution_count": 14,
   "metadata": {},
   "outputs": [],
   "source": [
    "# We will make lists of the I2C controller objects and port objects\n",
    "# for each FT232H device\n",
    "i2c_controllers = []\n",
    "i2c_ports = []\n",
    "for dev in devices:\n",
    "    url = f\"ftdi://ftdi:232h:{hex(dev[0].bus)}:{hex(dev[0].address)}/1\"\n",
    "    controller = I2cController()\n",
    "    controller.configure(url)\n",
    "    i2c_controllers.append(controller)\n",
    "    port = controller.get_port(0x5A)\n",
    "    # I really need to figure out a better way to determine the correct address,\n",
    "    # because this looks silly\n",
    "    try: # Try to read a byte to see if that's the right address\n",
    "        port.read_from(0x04, 1)\n",
    "    except: # If not, try again\n",
    "        port = controller.get_port(0x5B)\n",
    "    try:\n",
    "        port.read_from(0x04, 1)\n",
    "    except:\n",
    "        port = controller.get_port(0x5C)\n",
    "    try:\n",
    "        port.read_from(0x04, 1)\n",
    "    except:\n",
    "        port = controller.get_port(0x5D)\n",
    "    try:\n",
    "        port.read_from(0x04,1)\n",
    "    except:\n",
    "        print('None of the MPR121 addresses are readable, is the FT232H in I2C mode?')\n",
    "    i2c_ports.append(port)"
   ]
  },
  {
   "cell_type": "code",
   "execution_count": 15,
   "metadata": {},
   "outputs": [
    {
     "name": "stdout",
     "output_type": "stream",
     "text": [
      "Board 0 Configured\n",
      "Board 1 Configured\n"
     ]
    }
   ],
   "source": [
    "# Loop over the FT232Hs, reset and configure each\n",
    "for idx, port in enumerate(i2c_ports):\n",
    "    # Write to Soft Reset Register (0x63 sends reset command)\n",
    "    port.write_to(SOFT_RESET, b'\\x63')\n",
    "    # 0x5E is the configuration register, setting to 0x8F starts the MPR121\n",
    "    # with the config used in the Adafruit library (if needed, I can figure\n",
    "    # out alternative configurations)\n",
    "    port.write_to(CONFIG, b'\\x8F')\n",
    "    \n",
    "    # If we don't sleep here, it doesn't have time to start reading properly\n",
    "    time.sleep(0.1)\n",
    "    \n",
    "    # Test that we have started the MPR121 (if it's not properly started,\n",
    "    # reading from DATA will give an empty bytearray, so we check if that's\n",
    "    # what we got back)\n",
    "    cap = port.read_from(DATA, 24)\n",
    "    if cap != bytearray(24):\n",
    "        print(f'Board {idx} Configured')"
   ]
  },
  {
   "cell_type": "markdown",
   "metadata": {},
   "source": [
    "## Recording Function and Loop"
   ]
  },
  {
   "cell_type": "code",
   "execution_count": 7,
   "metadata": {},
   "outputs": [],
   "source": [
    "def record(i2c_port):\n",
    "    \"\"\"\n",
    "    Reads 24 bytes (2 bytes per channel for 12 channels) from an MPR121 sensor \n",
    "    via the given pyftdi I2C port, and returns timestamp and capacitance data.\n",
    "    \"\"\"\n",
    "    local_time_data = deque(maxlen=NUM_CHANNELS)\n",
    "    local_cap_data = deque(maxlen=NUM_CHANNELS)\n",
    "\n",
    "    # Read 24 bytes (2 bytes for each of the 12 channels).\n",
    "    raw_buffer = i2c_port.read_from(DATA, 24)\n",
    "    for chan in range(NUM_CHANNELS):\n",
    "        # Combine two bytes (little-endian)\n",
    "        value = raw_buffer[2 * chan] | (raw_buffer[2 * chan + 1] << 8)\n",
    "        local_cap_data.append(value)\n",
    "        local_time_data.append(time.time())\n",
    "    return local_time_data, local_cap_data"
   ]
  },
  {
   "cell_type": "code",
   "execution_count": 8,
   "metadata": {},
   "outputs": [],
   "source": [
    "debug_ctr = 0\n",
    "async def record_sensors():\n",
    "    \"\"\"\n",
    "    Asynchronous function for recording from all sensors and periodically\n",
    "    writing to file. This is done asynchronously so that we are not blocking\n",
    "    user inputs while recording (so the user can start/stop and add other data\n",
    "    to the H5 file without stopping everything).\n",
    "    \"\"\"\n",
    "    global debug_ctr\n",
    "    board_time_data = {\n",
    "        board: [deque(maxlen=HISTORY_SIZE) for _ in range(NUM_CHANNELS)]\n",
    "        for board in range(NUM_BOARDS)\n",
    "    }\n",
    "    board_cap_data = {\n",
    "        board: [deque(maxlen=HISTORY_SIZE) for _ in range(NUM_CHANNELS)]\n",
    "        for board in range(NUM_BOARDS)\n",
    "    }\n",
    "    # Track how many reads we've done so that we can write at the appropriate\n",
    "    # intervals\n",
    "    loop_ctr = 0\n",
    "    \n",
    "    with ThreadPoolExecutor(max_workers=NUM_BOARDS) as executor:\n",
    "        # Create a group for each board and initialize datasets.\n",
    "        with h5py.File(filename, \"w\") as h5f:\n",
    "            board_groups = {}\n",
    "            for board in range(NUM_BOARDS):\n",
    "                grp = h5f.create_group(f\"board_{board}\")\n",
    "                for sensor in range(NUM_CHANNELS):\n",
    "                    grp.create_group(f\"sensor_{sensor}\")\n",
    "        while recording_all:\n",
    "            # Because the while loop is computing stuff pretty much constantly,\n",
    "            # it blocks the main execution thread for the notebook unless we\n",
    "            # await for a moment here. This gives control back to the notebook,\n",
    "            # and checks if the user has pressed any buttons since the last loop\n",
    "            await asyncio.sleep(0)\n",
    "            # Launch parallel sensor reads on all I2C ports.\n",
    "            futures = [executor.submit(record, port) for port in i2c_ports]\n",
    "            results = [future.result() for future in futures]  # Each result is (local_time_data, local_cap_data)\n",
    "            # Append the data from each board to its corresponding deques.\n",
    "            for board, (local_time, local_cap) in enumerate(results):\n",
    "                for sensor in range(NUM_CHANNELS):\n",
    "                    board_time_data[board][sensor].append(local_time[sensor])\n",
    "                    board_cap_data[board][sensor].append(local_cap[sensor])\n",
    "            if loop_ctr == HISTORY_SIZE:\n",
    "                with h5py.File(filename, \"r+\") as h5f:\n",
    "                    for board in range(NUM_BOARDS):\n",
    "                        for sensor in range(NUM_CHANNELS):\n",
    "                            group = h5f[f\"board_{board}\"][f\"sensor_{sensor}\"]\n",
    "                            debug_ctr = board_time_data[board][sensor]\n",
    "                            group.create_dataset(\"time_data\", data=board_time_data[board][sensor], chunks=(HISTORY_SIZE,), maxshape=(None,))\n",
    "                            group.create_dataset(\"cap_data\", data=board_cap_data[board][sensor], chunks=(HISTORY_SIZE,), maxshape=(None,))\n",
    "            elif loop_ctr != 0 and loop_ctr%HISTORY_SIZE == 0:\n",
    "                tmp_ctr = loop_ctr - HISTORY_SIZE\n",
    "                with h5py.File(filename, \"r+\") as h5f:\n",
    "                    for board in range(NUM_BOARDS):\n",
    "                        for sensor in range(NUM_CHANNELS): \n",
    "                            group = h5f[f\"board_{board}\"][f\"sensor_{sensor}\"]\n",
    "                            group[\"time_data\"].resize((tmp_ctr + HISTORY_SIZE,))\n",
    "                            group[\"cap_data\"].resize((tmp_ctr + HISTORY_SIZE,))\n",
    "                            group[\"time_data\"][tmp_ctr:tmp_ctr + HISTORY_SIZE] = board_time_data[board][sensor]\n",
    "                            group[\"cap_data\"][tmp_ctr:tmp_ctr + HISTORY_SIZE] = board_cap_data[board][sensor]\n",
    "            loop_ctr += 1"
   ]
  },
  {
   "cell_type": "markdown",
   "metadata": {},
   "source": [
    "## Widget Callback Functions"
   ]
  },
  {
   "cell_type": "code",
   "execution_count": 9,
   "metadata": {},
   "outputs": [],
   "source": [
    "# --- Callback for the Main Start/Stop Button ---\n",
    "def start_stop_all(button):\n",
    "    global recording_all, recording_task, filename\n",
    "    if not recording_all:\n",
    "        recording_all = True\n",
    "        # Define the filename here so that another recording session can\n",
    "        # start without rerunning everything (although it would still be a\n",
    "        # good idea, I'm doing this in case of user error)\n",
    "        filename = f\"raw_data_{datetime.datetime.now().strftime('%Y-%m-%d_%H-%M-%S')}.h5\"\n",
    "        button.description = \"Stop Recording\"\n",
    "        recording_task = asyncio.create_task(record_sensors())\n",
    "        with output_area:\n",
    "            print(\"Started recording sensors asynchronously.\")\n",
    "    else:\n",
    "        recording_all = False\n",
    "        button.description = \"Start Recording\"\n",
    "        with output_area:\n",
    "            print(\"Stopping recording sensors.\")\n",
    "        if recording_task is not None:\n",
    "            recording_task.cancel()\n",
    "        # Make sure all sensor buttons are switched to the stopped state\n",
    "        # (this will also trigger saving the stop_time for each sensor\n",
    "        # that was not switched off manually)\n",
    "        for row in sensor_rows:\n",
    "            if isinstance(row[0], widgets.widget_bool.ToggleButton):\n",
    "                row[0].value = False\n",
    "                sensor_id = row[0].sensor_id\n",
    "                board_id = sensor_id // 12\n",
    "            if isinstance(row[2], widgets.widget_float.BoundedFloatText):\n",
    "                start_vol = row[2].value\n",
    "                stop_vol = row[3].value\n",
    "            with h5py.File(filename, \"r+\") as h5f:\n",
    "                # Try/except here in case the user never started/stopped some sensor and a group\n",
    "                # was never created for it.\n",
    "                try:\n",
    "                    h5f[f\"board_{board_id}\"][f\"sensor_{sensor_id}\"].create_dataset(\"start_vol\", data = start_vol)\n",
    "                    h5f[f\"board_{board_id}\"][f\"sensor_{sensor_id}\"].create_dataset(\"stop_vol\", data = stop_vol)\n",
    "                except KeyError:\n",
    "                    h5f[f\"board_{board_id}\"].create_group(f\"sensor_{sensor_id}\")\n",
    "                    h5f[f\"board_{board_id}\"][f\"sensor_{sensor_id}\"].create_dataset(\"start_vol\", data = start_vol)\n",
    "                    h5f[f\"board_{board_id}\"][f\"sensor_{sensor_id}\"].create_dataset(\"stop_vol\", data = stop_vol)"
   ]
  },
  {
   "cell_type": "code",
   "execution_count": 10,
   "metadata": {},
   "outputs": [],
   "source": [
    "# --- Callback for Individual Sensor Start/Stop ---\n",
    "def sensor_recording(sensor_id, starting):\n",
    "    global start_except_ctr, stop_except_ctr\n",
    "    with output_area:\n",
    "        if starting:\n",
    "            print(f\"Sensor {sensor_id}: Recording start triggered.\")\n",
    "            # Set the board ID number based on the sensor ID,\n",
    "            # sensors 0-11 are on board 0, etc.\n",
    "            board_id = sensor_id // 12\n",
    "            with h5py.File(filename, \"r+\") as h5f:\n",
    "                try:\n",
    "                    h5f[f\"board_{board_id}\"][f\"sensor_{sensor_id%12}\"].create_dataset(\"start_time\", data=time.time())\n",
    "                except ValueError as e:\n",
    "                    start_except_ctr += 1\n",
    "                    print(\"Attempted to re-record the start time after it has been set\")\n",
    "                    h5f[f\"board_{board_id}\"][f\"sensor_{sensor_id%12}\"].create_dataset(f\"start_time{start_except_ctr}\", data=time.time())\n",
    "        else:\n",
    "            print(f\"Sensor {sensor_id}: Recording stop triggered.\")\n",
    "            board_id = sensor_id // 12\n",
    "            with h5py.File(filename, \"r+\") as h5f:\n",
    "                try:\n",
    "                    h5f[f\"board_{board_id}\"][f\"sensor_{sensor_id%12}\"].create_dataset(\"stop_time\", data=time.time())\n",
    "                except ValueError as e:\n",
    "                    stop_except_ctr += 1\n",
    "                    print(\"Attempted to re-record the stop time after it has been set\")\n",
    "                    h5f[f\"board_{board_id}\"][f\"sensor_{sensor_id%12}\"].create_dataset(f\"stop_time{stop_except_ctr}\", data=time.time())"
   ]
  },
  {
   "cell_type": "code",
   "execution_count": 11,
   "metadata": {},
   "outputs": [],
   "source": [
    "# --- Callback for Individual Sensor Test Buttons ---\n",
    "def sensor_test(button):\n",
    "    with graph_area:\n",
    "        graph_area.clear_output()\n",
    "        print(f\"Sensor {button.sensor_id}: Test triggered - plotting raw data for confirmation.\")\n",
    "        board_id = (button.sensor_id) // 12\n",
    "        try:\n",
    "            with h5py.File(filename, \"r\") as h5f:\n",
    "                last_20sec = h5f[f\"board_{board_id}\"][f\"sensor_{button.sensor_id%12}\"][\"cap_data\"][-1000:]\n",
    "                fig, ax = plt.subplots()\n",
    "                # Plotting the data; using the index as the x-axis values\n",
    "                ax.plot(range(len(last_20sec)), last_20sec)\n",
    "                ax.set_xlabel(\"Index\")\n",
    "                ax.set_ylabel(\"Sensor Data\")\n",
    "                ax.set_title(f\"Sensor {button.sensor_id}: Last ~20 sec of raw data\")\n",
    "                plt.show()\n",
    "        except KeyError:\n",
    "            print(\"Please wait until at least 1000 reads have been completed before testing!\")"
   ]
  },
  {
   "cell_type": "code",
   "execution_count": 12,
   "metadata": {},
   "outputs": [],
   "source": [
    "# --- Callback for the Clear Output/Graph Buttons ---\n",
    "def clear_output_callback(button):\n",
    "    output_area.clear_output()\n",
    "def clear_graph_callback(button):\n",
    "    graph_area.clear_output()"
   ]
  },
  {
   "cell_type": "markdown",
   "metadata": {},
   "source": [
    "# Start Here"
   ]
  },
  {
   "cell_type": "code",
   "execution_count": 13,
   "metadata": {
    "jupyter": {
     "source_hidden": true
    }
   },
   "outputs": [
    {
     "data": {
      "application/vnd.jupyter.widget-view+json": {
       "model_id": "ec9cd4b665ee445fac0b816de7d734d2",
       "version_major": 2,
       "version_minor": 0
      },
      "text/plain": [
       "VBox(children=(Button(button_style='primary', description='Start Recording', layout=Layout(height='60px', widt…"
      ]
     },
     "metadata": {},
     "output_type": "display_data"
    }
   ],
   "source": [
    "# Define widgets\n",
    "\n",
    "# Global flags and variables for async recording.\n",
    "recording_all = False\n",
    "recording_task = None\n",
    "\n",
    "# Counters to check if we are setting multiple start/end times\n",
    "# This is probably not necessary, but just in case someone makes a mistake and clicks\n",
    "# the start or stop on the wrong sensor, we can allow saving multiple start and stop times\n",
    "# instead of forcing the user to start over. It'll be a bit confusing later on, is the\n",
    "# issue I see, if there are multiple start times and it's not carefully recorded which\n",
    "# was correct.\n",
    "start_except_ctr = 0\n",
    "stop_except_ctr = 0\n",
    "\n",
    "# --- Create the Output Widgets for Text and Graphing ---\n",
    "output_area = widgets.Output(layout=widgets.Layout(overflow_y='scroll', height='500px', width='500px'))\n",
    "graph_area = widgets.Output(layout=widgets.Layout(overflow_y='scroll', height='500px'))\n",
    "outputs_hbox = widgets.HBox([\n",
    "    output_area, graph_area,  \n",
    "])\n",
    "\n",
    "# --- Create the Main Start/Stop Button ---\n",
    "all_devices_button = widgets.Button(\n",
    "    description=\"Start Recording\",\n",
    "    button_style='primary',\n",
    "    layout=widgets.Layout(width='400px', height='60px')\n",
    ")\n",
    "all_devices_button.on_click(start_stop_all)\n",
    "\n",
    "# --- Create Sensor Rows: Each row includes a toggle button and a test button ---\n",
    "sensor_rows = []\n",
    "for i in range(NUM_SENSORS_TOTAL):\n",
    "    # Create the sensor toggle button (starts as \"Start\").\n",
    "    toggle_btn = widgets.ToggleButton(\n",
    "        value=False,\n",
    "        description=f\"Sensor {i}: Start\",\n",
    "        layout=widgets.Layout(width='200px')\n",
    "    )\n",
    "    toggle_btn.sensor_id = i\n",
    "    # Define the observer for the toggle button.\n",
    "    def on_toggle(change, btn=toggle_btn):\n",
    "        if change['new']:\n",
    "            btn.description = f\"Sensor {btn.sensor_id}: Stop\"\n",
    "            sensor_recording(btn.sensor_id, starting=True)\n",
    "        else:\n",
    "            btn.description = f\"Sensor {btn.sensor_id}: Start\"\n",
    "            sensor_recording(btn.sensor_id, starting=False)\n",
    "    toggle_btn.observe(on_toggle, names='value')\n",
    "\n",
    "    # Create the sensor-specific test button.\n",
    "    test_btn = widgets.Button(\n",
    "        description=\"Test\",\n",
    "        button_style='info',\n",
    "        layout=widgets.Layout(width='100px')\n",
    "    )\n",
    "    test_btn.sensor_id = i\n",
    "    test_btn.on_click(sensor_test)\n",
    "\n",
    "    start_vol_tinput = widgets.BoundedFloatText(\n",
    "        value=0,\n",
    "        min=0,\n",
    "        max=100.0,\n",
    "        step=0.01,\n",
    "        layout=widgets.Layout(width='100px'),\n",
    "    )\n",
    "    start_vol_tinput.sensor_id = i\n",
    "    stop_vol_tinput = widgets.BoundedFloatText(\n",
    "        value=0,\n",
    "        min=0,\n",
    "        max=100.0,\n",
    "        step=0.01,\n",
    "        layout=widgets.Layout(width='100px'),\n",
    "    )\n",
    "    stop_vol_tinput.sensor_id = i\n",
    "\n",
    "    # Combine the toggle and test buttons with the volume input boxes into a horizontal box.\n",
    "    sensor_row = [toggle_btn, test_btn, start_vol_tinput, stop_vol_tinput]\n",
    "    sensor_rows.append(sensor_row)\n",
    "\n",
    "# --- Arrange the Sensor Rows into Columns ---\n",
    "columns = []\n",
    "for j in range(NUM_SENSORS_TOTAL // 12):\n",
    "    sensors_subset = [item for row in sensor_rows[j * 12:(j + 1) * 12] for item in row]\n",
    "    # Create GridBox layout\n",
    "    grid_layout = widgets.Layout(\n",
    "        display='grid',\n",
    "        grid_template_columns='auto auto auto auto',\n",
    "        #grid_gap='10px 10px',\n",
    "        width='600px',\n",
    "        justify_content='flex-start'\n",
    "    )\n",
    "    start_column_header = widgets.Label(\n",
    "        value=\"Start Vol\",\n",
    "    )\n",
    "    stop_column_header = widgets.Label(\n",
    "        value=\"Stop Vol\",\n",
    "    )\n",
    "    # I'm just using empty labels over the first 2 columns so that the start and stop volume labels are\n",
    "    # aligned properly\n",
    "    grid_w_headers = [widgets.Label(), widgets.Label(), start_column_header, stop_column_header, *sensors_subset]\n",
    "    column = widgets.GridBox(grid_w_headers, layout=grid_layout)\n",
    "    columns.append(column)\n",
    "sensors_columns = widgets.HBox(columns)\n",
    "\n",
    "# --- Create the Clear Output/Graph Buttons ---\n",
    "clear_output_button = widgets.Button(\n",
    "    description=\"Clear Output\",\n",
    "    button_style='warning'\n",
    ")\n",
    "# clear_output_button.layout.width = '150px'\n",
    "# clear_output_button.layout.height = '40px'\n",
    "clear_output_button.on_click(clear_output_callback)\n",
    "\n",
    "clear_graph_button = widgets.Button(\n",
    "    description=\"Clear Graph\",\n",
    "    button_style='warning'\n",
    ")\n",
    "# Set the layout properties after creation to avoid JSON serialization issues.\n",
    "# clear_graph_button.layout.width = '150px'\n",
    "# clear_graph_button.layout.height = '40px'\n",
    "clear_graph_button.on_click(clear_graph_callback)\n",
    "\n",
    "clear_buttons = widgets.HBox([\n",
    "    clear_output_button, clear_graph_button,\n",
    "])\n",
    "\n",
    "# --- Combine Everything into the Final Layout ---\n",
    "final_ui = widgets.VBox([\n",
    "    all_devices_button,  # Top large start/stop-all button\n",
    "    #column_headers,      # Text box to display \"Start Vol\" and \"Stop Vol\" above those columns\n",
    "    sensors_columns,     # Sensor grid arranged in 3 columns\n",
    "    clear_buttons,       # Buttons to clear the output/graph widgets\n",
    "    outputs_hbox,        # Output/graph widgets side-by-side\n",
    "])\n",
    "\n",
    "# Display the complete UI.\n",
    "display(final_ui)"
   ]
  }
 ],
 "metadata": {
  "kernelspec": {
   "display_name": "Python 3 (ipykernel)",
   "language": "python",
   "name": "python3"
  },
  "language_info": {
   "codemirror_mode": {
    "name": "ipython",
    "version": 3
   },
   "file_extension": ".py",
   "mimetype": "text/x-python",
   "name": "python",
   "nbconvert_exporter": "python",
   "pygments_lexer": "ipython3",
   "version": "3.13.2"
  }
 },
 "nbformat": 4,
 "nbformat_minor": 4
}
