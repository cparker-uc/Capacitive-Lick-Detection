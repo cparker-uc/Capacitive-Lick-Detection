{
 "cells": [
  {
   "cell_type": "markdown",
   "metadata": {},
   "source": [
    "# MPR121 Data Recording Notebook\n",
    "\n",
    "Author: Christopher Parker (parkecp@mail.uc.edu)\n",
    "\n",
    "I've tried to make this as user-friendly as possible, but feel free to reach out with any questions."
   ]
  },
  {
   "cell_type": "markdown",
   "metadata": {},
   "source": [
    "### Imports"
   ]
  },
  {
   "cell_type": "code",
   "execution_count": 1,
   "metadata": {},
   "outputs": [],
   "source": [
    "# Basic libraries\n",
    "import os\n",
    "os.environ['BLINKA_MPR121'] = '1'\n",
    "os.environ['BLINKA_FT232H'] = '1'\n",
    "import time\n",
    "import datetime\n",
    "from collections import deque\n",
    "\n",
    "# For writing data to file\n",
    "import h5py\n",
    "\n",
    "# Libraries for FTDI and I2C\n",
    "from pyftdi.i2c import I2cController\n",
    "from pyftdi.usbtools import UsbTools\n",
    "\n",
    "# Multiprocessing\n",
    "from concurrent.futures import ThreadPoolExecutor"
   ]
  },
  {
   "cell_type": "markdown",
   "metadata": {},
   "source": [
    "### Device Configuration and Constant Declarations"
   ]
  },
  {
   "cell_type": "code",
   "execution_count": 2,
   "metadata": {},
   "outputs": [],
   "source": [
    "devices = UsbTools.find_all([(0x0403, 0x6014)])"
   ]
  },
  {
   "cell_type": "code",
   "execution_count": 3,
   "metadata": {},
   "outputs": [],
   "source": [
    "i2c_controllers = []\n",
    "i2c_ports = []\n",
    "for dev in devices:\n",
    "    url = f\"ftdi://ftdi:232h:{dev[0].address}/1\"\n",
    "    controller = I2cController()\n",
    "    controller.configure(url)\n",
    "    i2c_controllers.append(controller)\n",
    "    port = controller.get_port(0x5A)\n",
    "    i2c_ports.append(port)"
   ]
  },
  {
   "cell_type": "code",
   "execution_count": 7,
   "metadata": {},
   "outputs": [],
   "source": [
    "# 0x80 is the Soft Reset Register (0x63 sends reset command)\n",
    "port.write_to(0x80, b'\\x63')\n",
    "# 0x5E is the configuration register, setting to 8F starts the MPR121\n",
    "# with the config used in the Adafruit library\n",
    "port.write_to(0x5E, b'\\x8F')\n",
    "\n",
    "# Now I just need to figure out all of the other configuration options and if\n",
    "# they ought to be changed"
   ]
  },
  {
   "cell_type": "code",
   "execution_count": 6,
   "metadata": {},
   "outputs": [
    {
     "data": {
      "text/plain": [
       "bytearray(b'\\x00\\x00\\x00\\x00\\xef\\x00\\xf3\\x00\\xef\\x00\\xf1\\x00\\xf7\\x00\\xf6\\x00\\xfa\\x00\\xf9\\x00\\xf8\\x00\\xf4\\x00')"
      ]
     },
     "execution_count": 6,
     "metadata": {},
     "output_type": "execute_result"
    }
   ],
   "source": [
    "port.write(0x04)\n",
    "port.read(24)"
   ]
  },
  {
   "cell_type": "code",
   "execution_count": 53,
   "metadata": {},
   "outputs": [],
   "source": [
    "port.write_to(0x5E, b'\\x8F')"
   ]
  },
  {
   "cell_type": "code",
   "execution_count": 54,
   "metadata": {},
   "outputs": [
    {
     "data": {
      "text/plain": [
       "bytearray(b'\\x8f')"
      ]
     },
     "execution_count": 54,
     "metadata": {},
     "output_type": "execute_result"
    }
   ],
   "source": [
    "port.read_from(0x5E, 1)"
   ]
  },
  {
   "cell_type": "code",
   "execution_count": 41,
   "metadata": {},
   "outputs": [
    {
     "data": {
      "text/plain": [
       "bytearray(b'\\x00\\x00')"
      ]
     },
     "execution_count": 41,
     "metadata": {},
     "output_type": "execute_result"
    }
   ],
   "source": [
    "port.write(0x5D)\n",
    "port.read(2)"
   ]
  },
  {
   "cell_type": "code",
   "execution_count": 2,
   "metadata": {},
   "outputs": [
    {
     "data": {
      "text/plain": [
       "<adafruit_mpr121.MPR121 at 0x1074e86e0>"
      ]
     },
     "execution_count": 2,
     "metadata": {},
     "output_type": "execute_result"
    }
   ],
   "source": [
    "import adafruit_mpr121\n",
    "import busio\n",
    "import board\n",
    "i2c = busio.I2C(board.SCL, board.SDA)\n",
    "adafruit_mpr121.MPR121(i2c)"
   ]
  },
  {
   "cell_type": "code",
   "execution_count": null,
   "metadata": {},
   "outputs": [],
   "source": [
    "i2c = busio.I2C(board.SCL, board.SDA, frequency=400000)\n",
    "# Despite not using this object later, it is necessary to initialize the MPR121\n",
    "# like this. I'm not sure why, but it just returns 0x00 from all registers\n",
    "# sometimes, and this seemed to fix it.\n",
    "mpr121 = adafruit_mpr121.MPR121(i2c)\n",
    "mpr121_address = 0x5A  # Default I2C address for the MPR121\n",
    "start_reg = 0x04       # Starting register for filtered (raw) data\n",
    "raw_buffer = bytearray(24)  # 24 bytes for 12 electrodes (2 bytes each)\n",
    "\n",
    "# How many sensor samples we want to store before writing\n",
    "HISTORY_SIZE = 1000\n"
   ]
  },
  {
   "cell_type": "markdown",
   "metadata": {},
   "source": [
    "### Widget Setup"
   ]
  },
  {
   "cell_type": "code",
   "execution_count": null,
   "metadata": {},
   "outputs": [],
   "source": []
  },
  {
   "cell_type": "markdown",
   "metadata": {},
   "source": [
    "#### Recording Function"
   ]
  },
  {
   "cell_type": "code",
   "execution_count": null,
   "metadata": {},
   "outputs": [],
   "source": [
    "def record():\n",
    "    # Time data (for each channel, because they are updated independently)\n",
    "    # We use deques here because they are more efficient for appending and popping\n",
    "    time_data = deque(maxlen=12)\n",
    "    # Capacitance data (again for each channel)\n",
    "    cap_data = deque(maxlen=12)\n",
    "    while not i2c.try_lock():\n",
    "        pass\n",
    "    try:\n",
    "        i2c.writeto_then_readfrom(mpr121_address, bytes([start_reg]), raw_buffer)\n",
    "    finally:\n",
    "        i2c.unlock()\n",
    "\n",
    "    # Process the raw data for each electrode\n",
    "    for chan in range(12):\n",
    "        # Combine the two bytes (little-endian) for each electrode\n",
    "        value = raw_buffer[2 * chan] | (raw_buffer[2 * chan + 1] << 8)\n",
    "\n",
    "        # Save the value to the cap_data list and the current time to the time_data deque\n",
    "        cap_data.append(value)            \n",
    "        time_data.append(time.time())\n",
    "    return time_data, cap_data"
   ]
  },
  {
   "cell_type": "markdown",
   "metadata": {},
   "source": [
    "## Start Recording Here"
   ]
  },
  {
   "cell_type": "code",
   "execution_count": null,
   "metadata": {},
   "outputs": [],
   "source": [
    "%%time\n",
    "stop = False # Flag to stop the loop\n",
    "time_data = deque([deque(maxlen=HISTORY_SIZE) for _ in range(12)])\n",
    "cap_data = deque([deque(maxlen=HISTORY_SIZE) for _ in range(12)])\n",
    "# Alternatives for stopping the loop (iterations or time),\n",
    "# also we are writing to file every 1000 reads\n",
    "loop_ctr = 0\n",
    "cutoff_time = time.time() + 60*60*2 # 2 hours\n",
    "with h5py.File(f\"raw_data_{datetime.datetime.now().strftime('%Y-%m-%d_%H-%M-%S')}.h5\", \"w\") as h5f:\n",
    "    while not stop:\n",
    "        start_time = time.time()\n",
    "        _time_data, _cap_data = record()\n",
    "        # Append data to the corresponding deques\n",
    "        for channel_idx, (time_point, cap_point) in enumerate(zip(_time_data, _cap_data)):\n",
    "            time_data[channel_idx].append(time_point)\n",
    "            cap_data[channel_idx].append(cap_point)\n",
    "        loop_time = time.time()\n",
    "        #print(f\"Loop time: {loop_time - start_time}\")\n",
    "        if loop_ctr == 1000:\n",
    "            print(loop_ctr)\n",
    "            h5f.create_dataset(\"time_data\", data=time_data, chunks=(12, 1000), maxshape=(12, None))\n",
    "            h5f.create_dataset(\"cap_data\", data=cap_data, dtype='i2', chunks=(12, 1000), maxshape=(12, None))\n",
    "        elif loop_ctr != 0 and loop_ctr%1000 == 0:\n",
    "            tmp_ctr = loop_ctr - 1000\n",
    "            h5f[\"time_data\"].resize((12, tmp_ctr + HISTORY_SIZE))\n",
    "            h5f[\"cap_data\"].resize((12, tmp_ctr + HISTORY_SIZE))\n",
    "            h5f[\"time_data\"][:, tmp_ctr:tmp_ctr + HISTORY_SIZE] = time_data\n",
    "            h5f[\"cap_data\"][:, tmp_ctr:tmp_ctr + HISTORY_SIZE] = cap_data\n",
    "            #print(f\"Write time: {time.time() - loop_time}\")\n",
    "        # Stop after a set number of reads\n",
    "        if loop_ctr == 2000:\n",
    "            stop = True\n",
    "        if time.time() >= cutoff_time:\n",
    "            stop = True\n",
    "        loop_ctr += 1"
   ]
  }
 ],
 "metadata": {
  "kernelspec": {
   "display_name": "Python 3 (ipykernel)",
   "language": "python",
   "name": "python3"
  },
  "language_info": {
   "codemirror_mode": {
    "name": "ipython",
    "version": 3
   },
   "file_extension": ".py",
   "mimetype": "text/x-python",
   "name": "python",
   "nbconvert_exporter": "python",
   "pygments_lexer": "ipython3",
   "version": "3.12.7"
  }
 },
 "nbformat": 4,
 "nbformat_minor": 4
}
