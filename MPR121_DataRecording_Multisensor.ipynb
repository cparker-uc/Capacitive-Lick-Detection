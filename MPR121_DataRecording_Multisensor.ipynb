{
 "cells": [
  {
   "cell_type": "markdown",
   "metadata": {},
   "source": [
    "# MPR121 Data Recording Notebook\n",
    "\n",
    "Author: Christopher Parker (parkecp@mail.uc.edu)\n",
    "\n",
    "I've tried to make this as user-friendly as possible, but feel free to reach out with any questions."
   ]
  },
  {
   "cell_type": "markdown",
   "metadata": {},
   "source": [
    "### Imports"
   ]
  },
  {
   "cell_type": "code",
   "execution_count": 1,
   "metadata": {},
   "outputs": [],
   "source": [
    "# Basic libraries\n",
    "import os\n",
    "os.environ['BLINKA_MPR121'] = '1'\n",
    "os.environ['BLINKA_FT232H'] = '1'\n",
    "import time\n",
    "import datetime\n",
    "from collections import deque\n",
    "\n",
    "# For writing data to file\n",
    "import h5py\n",
    "\n",
    "# Libraries for FTDI and I2C\n",
    "from pyftdi.i2c import I2cController\n",
    "from pyftdi.usbtools import UsbTools\n",
    "\n",
    "# Multiprocessing\n",
    "from concurrent.futures import ThreadPoolExecutor"
   ]
  },
  {
   "cell_type": "markdown",
   "metadata": {},
   "source": [
    "### Device Configuration and Constant Declarations"
   ]
  },
  {
   "cell_type": "markdown",
   "metadata": {},
   "source": [
    "Before we start recording, we need to configure the MPR121s.\n",
    "\n",
    "Normally, this would be done automatically by the Adafruit Blinka package, but we cannot use that (because it only allows 1 FT232H at a time).\n",
    "So instead, we have to use the pyftdi package (which is what Adafruit Blinka uses, also) and manually determine which registers need to be written/read."
   ]
  },
  {
   "cell_type": "code",
   "execution_count": 2,
   "metadata": {},
   "outputs": [],
   "source": [
    "# Register Addresses\n",
    "SOFT_RESET = 0x80\n",
    "CONFIG = 0x5E\n",
    "DATA = 0x04\n",
    "\n",
    "# How many sensor samples we want to store before writing\n",
    "HISTORY_SIZE = 1000\n",
    "\n",
    "# 12 channels per MPR121, just defining a constant\n",
    "# for clarity\n",
    "NUM_CHANNELS = 12"
   ]
  },
  {
   "cell_type": "code",
   "execution_count": 3,
   "metadata": {},
   "outputs": [],
   "source": [
    "# Find all devices with the given vendor and product IDs\n",
    "# These correspond to the FT232H\n",
    "devices = UsbTools.find_all([(0x0403, 0x6014)])\n",
    "\n",
    "NUM_SENSORS = len(devices)"
   ]
  },
  {
   "cell_type": "code",
   "execution_count": 4,
   "metadata": {},
   "outputs": [],
   "source": [
    "# We will make lists of the I2C controller objects and port objects\n",
    "# for each FT232H device\n",
    "i2c_controllers = []\n",
    "i2c_ports = []\n",
    "for dev in devices:\n",
    "    url = f\"ftdi://ftdi:232h:{dev[0].bus}:{dev[0].address}/1\"\n",
    "    controller = I2cController()\n",
    "    controller.configure(url)\n",
    "    i2c_controllers.append(controller)\n",
    "    port = controller.get_port(0x5A)\n",
    "    # I really need to figure out a better way to determine the correct address,\n",
    "    # because this looks silly\n",
    "    try: # Try to read a byte to see if that's the right address\n",
    "        port.read_from(0x04, 1)\n",
    "    except: # If not, try again\n",
    "        port = controller.get_port(0x5B)\n",
    "    try:\n",
    "        port.read_from(0x04, 1)\n",
    "    except:\n",
    "        port = controller.get_port(0x5C)\n",
    "    try:\n",
    "        port.read_from(0x04, 1)\n",
    "    except:\n",
    "        port = controller.get_port(0x5D)\n",
    "    try:\n",
    "        port.read_from(0x04,1)\n",
    "    except:\n",
    "        print('None of the MPR121 addresses is readable, is the FT232H in I2C mode?')\n",
    "    i2c_ports.append(port)"
   ]
  },
  {
   "cell_type": "code",
   "execution_count": 5,
   "metadata": {},
   "outputs": [
    {
     "name": "stdout",
     "output_type": "stream",
     "text": [
      "Sensor 0 Started\n",
      "Sensor 1 Started\n"
     ]
    }
   ],
   "source": [
    "# Loop over the FT232Hs, reset and configure each\n",
    "for idx, port in enumerate(i2c_ports):\n",
    "    # Write to Soft Reset Register (0x63 sends reset command)\n",
    "    port.write_to(SOFT_RESET, b'\\x63')\n",
    "    # 0x5E is the configuration register, setting to 0x8F starts the MPR121\n",
    "    # with the config used in the Adafruit library (if needed, I can figure\n",
    "    # out alternative configurations)\n",
    "    port.write_to(CONFIG, b'\\x8F')\n",
    "    \n",
    "    # If we don't sleep here, it doesn't have time to start reading properly\n",
    "    time.sleep(0.1)\n",
    "    \n",
    "    # Test that we have started the MPR121 (if it's not properly started,\n",
    "    # reading from DATA will give an empty bytearray, so we check if that's\n",
    "    # what we got back)\n",
    "    cap = port.read_from(DATA, 24)\n",
    "    if cap != bytearray(24):\n",
    "        print(f'Sensor {idx} Started')"
   ]
  },
  {
   "cell_type": "markdown",
   "metadata": {
    "jp-MarkdownHeadingCollapsed": true
   },
   "source": [
    "### Widget Setup"
   ]
  },
  {
   "cell_type": "code",
   "execution_count": null,
   "metadata": {},
   "outputs": [],
   "source": []
  },
  {
   "cell_type": "markdown",
   "metadata": {},
   "source": [
    "#### Recording Function"
   ]
  },
  {
   "cell_type": "code",
   "execution_count": 6,
   "metadata": {},
   "outputs": [],
   "source": [
    "def record():\n",
    "    # Time data (for each channel, because they are updated independently)\n",
    "    # We use deques here because they are more efficient for appending and popping\n",
    "    time_data = deque(maxlen=12)\n",
    "    # Capacitance data (again for each channel)\n",
    "    cap_data = deque(maxlen=12)\n",
    "    while not i2c.try_lock():\n",
    "        pass\n",
    "    try:\n",
    "        i2c.writeto_then_readfrom(mpr121_address, bytes([start_reg]), raw_buffer)\n",
    "    finally:\n",
    "        i2c.unlock()\n",
    "\n",
    "    # Process the raw data for each electrode\n",
    "    for chan in range(12):\n",
    "        # Combine the two bytes (little-endian) for each electrode\n",
    "        value = raw_buffer[2 * chan] | (raw_buffer[2 * chan + 1] << 8)\n",
    "\n",
    "        # Save the value to the cap_data list and the current time to the time_data deque\n",
    "        cap_data.append(value)            \n",
    "        time_data.append(time.time())\n",
    "    return time_data, cap_data"
   ]
  },
  {
   "cell_type": "markdown",
   "metadata": {},
   "source": [
    "## Start Recording Here"
   ]
  },
  {
   "cell_type": "code",
   "execution_count": 7,
   "metadata": {},
   "outputs": [],
   "source": [
    "def record(i2c_port):\n",
    "    \"\"\"\n",
    "    Reads 24 bytes (2 bytes per channel for 12 channels) from an MPR121 sensor \n",
    "    via the given pyftdi I2C port, and returns timestamp and capacitance data.\n",
    "    \"\"\"\n",
    "    local_time_data = deque(maxlen=NUM_CHANNELS)\n",
    "    local_cap_data = deque(maxlen=NUM_CHANNELS)\n",
    "\n",
    "    # Read 24 bytes (2 bytes for each of the 12 channels).\n",
    "    raw_buffer = i2c_port.read_from(DATA, 24)\n",
    "    for chan in range(NUM_CHANNELS):\n",
    "        # Combine two bytes (little-endian)\n",
    "        value = raw_buffer[2 * chan] | (raw_buffer[2 * chan + 1] << 8)\n",
    "        local_cap_data.append(value)\n",
    "        local_time_data.append(time.time())\n",
    "    return local_time_data, local_cap_data\n"
   ]
  },
  {
   "cell_type": "code",
   "execution_count": 8,
   "metadata": {},
   "outputs": [
    {
     "name": "stdout",
     "output_type": "stream",
     "text": [
      "CPU times: user 4.04 s, sys: 4.24 s, total: 8.27 s\n",
      "Wall time: 40.2 s\n"
     ]
    }
   ],
   "source": [
    "%%time\n",
    "sensor_time_data = {\n",
    "    sensor: [deque(maxlen=HISTORY_SIZE) for _ in range(NUM_CHANNELS)]\n",
    "    for sensor in range(NUM_SENSORS)\n",
    "}\n",
    "sensor_cap_data = {\n",
    "    sensor: [deque(maxlen=HISTORY_SIZE) for _ in range(NUM_CHANNELS)]\n",
    "    for sensor in range(NUM_SENSORS)\n",
    "}\n",
    "# Alternatives for stopping the loop (iterations or time),\n",
    "# also we are writing to file every 1000 reads\n",
    "stop = False # Flag to stop looping\n",
    "loop_ctr = 0\n",
    "cutoff_time = time.time() + 60 * 60 * 2  # Run for 2 hours\n",
    "\n",
    "# Open an HDF5 file to store the data.\n",
    "filename = f\"raw_data_{datetime.datetime.now().strftime('%Y-%m-%d_%H-%M-%S')}.h5\"\n",
    "with h5py.File(filename, \"w\") as h5f, ThreadPoolExecutor(max_workers=NUM_SENSORS) as executor:\n",
    "    # Create a group for each sensor and initialize datasets.\n",
    "    sensor_groups = {}\n",
    "    for sensor in range(NUM_SENSORS):\n",
    "        grp = h5f.create_group(f\"sensor_{sensor}\")\n",
    "        sensor_groups[sensor] = grp\n",
    "\n",
    "    while not stop:\n",
    "        start_time = time.time()\n",
    "        \n",
    "        # Launch parallel sensor reads on all I2C ports.\n",
    "        futures = [executor.submit(record, port) for port in i2c_ports]\n",
    "        results = [future.result() for future in futures]  # Each result is (local_time_data, local_cap_data)\n",
    "        # Append the data from each sensor to its corresponding deques.\n",
    "        for sensor_idx, (local_time, local_cap) in enumerate(results):\n",
    "            for chan in range(NUM_CHANNELS):\n",
    "                sensor_time_data[sensor_idx][chan].append(local_time[chan])\n",
    "                sensor_cap_data[sensor_idx][chan].append(local_cap[chan])\n",
    "        loop_time = time.time()\n",
    "        #print(f\"Loop time: {loop_time - start_time}\")\n",
    "        if loop_ctr == HISTORY_SIZE:\n",
    "            for sensor, group in sensor_groups.items():\n",
    "                group.create_dataset(\"time_data\", data=sensor_time_data[sensor], chunks=(NUM_CHANNELS, HISTORY_SIZE), maxshape=(NUM_CHANNELS, None))\n",
    "                group.create_dataset(\"cap_data\", data=sensor_cap_data[sensor], chunks=(NUM_CHANNELS, HISTORY_SIZE), maxshape=(NUM_CHANNELS, None))\n",
    "            # for sensor in range(NUM_SENSORS):\n",
    "            #     sensor_groups[sensor].create_dataset(\"time_data\", data=sensor_time_data[sensor], chunks=(NUM_CHANNELS, HISTORY_SIZE), maxshape=(NUM_CHANNELS, None))\n",
    "            #     sensor_groups[sensor].create_dataset(\"cap_data\", data=sensor_cap_data[sensor], chunks=(NUM_CHANNELS, HISTORY_SIZE), maxshape=(NUM_CHANNELS, None))\n",
    "        elif loop_ctr != 0 and loop_ctr%HISTORY_SIZE == 0:\n",
    "            tmp_ctr = loop_ctr - 1000\n",
    "            for sensor, group in sensor_groups.items():\n",
    "                group[\"time_data\"].resize((NUM_CHANNELS, tmp_ctr + HISTORY_SIZE))\n",
    "                group[\"cap_data\"].resize((NUM_CHANNELS, tmp_ctr + HISTORY_SIZE))\n",
    "                group[\"time_data\"][:, tmp_ctr:tmp_ctr + HISTORY_SIZE] = sensor_time_data[sensor]\n",
    "                group[\"cap_data\"][:, tmp_ctr:tmp_ctr + HISTORY_SIZE] = sensor_cap_data[sensor]\n",
    "        # Stop after a set number of reads\n",
    "        if loop_ctr == 2000:\n",
    "            stop = True\n",
    "        if time.time() >= cutoff_time:\n",
    "            stop = True\n",
    "        loop_ctr += 1"
   ]
  },
  {
   "cell_type": "code",
   "execution_count": null,
   "metadata": {},
   "outputs": [],
   "source": []
  }
 ],
 "metadata": {
  "kernelspec": {
   "display_name": "Python 3 (ipykernel)",
   "language": "python",
   "name": "python3"
  },
  "language_info": {
   "codemirror_mode": {
    "name": "ipython",
    "version": 3
   },
   "file_extension": ".py",
   "mimetype": "text/x-python",
   "name": "python",
   "nbconvert_exporter": "python",
   "pygments_lexer": "ipython3",
   "version": "3.12.7"
  }
 },
 "nbformat": 4,
 "nbformat_minor": 4
}
