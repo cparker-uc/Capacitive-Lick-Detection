{
 "cells": [
  {
   "cell_type": "markdown",
   "id": "86ef331c-8252-4e88-a65d-06dec6fedfc8",
   "metadata": {},
   "source": [
    "# MPR121 Data Analysis Notebook\n",
    "Author: Christopher Parker (parkecp@mail.uc.edu)"
   ]
  },
  {
   "cell_type": "code",
   "execution_count": 1,
   "id": "6a28bbef-4321-4c01-83e7-a09319e73c27",
   "metadata": {},
   "outputs": [],
   "source": [
    "import os\n",
    "from io import StringIO\n",
    "import h5py\n",
    "import matplotlib\n",
    "import matplotlib.pyplot as plt\n",
    "import numpy as np\n",
    "import pandas as pd\n",
    "import scipy.signal as ssignal\n",
    "from scipy.stats import pearsonr\n",
    "import ipywidgets as widgets"
   ]
  },
  {
   "cell_type": "code",
   "execution_count": 2,
   "id": "4f450c91-448f-4ba7-a200-a539d3541ae1",
   "metadata": {},
   "outputs": [],
   "source": [
    "# Load the data by filename\n",
    "recording_filename = 'raw_data_2025-04-24_11-39-40.h5'\n",
    "\n",
    "# Determine what date/time the recording was started (for\n",
    "# use in saving figures later with the proper date/time)\n",
    "recording_datetime = os.path.splitext(recording_filename)[0]\n",
    "recording_datetime = recording_datetime.split('raw_data_')[1]\n",
    "\n",
    "if not os.path.exists('Filtered Data Figures'):\n",
    "    os.mkdir('Filtered Data Figures')\n",
    "if not os.path.exists('Recording Figures'):\n",
    "    os.mkdir('Recording Figures')"
   ]
  },
  {
   "cell_type": "code",
   "execution_count": 3,
   "id": "e43f9c38-c23e-4d2b-8a7f-37f585708f69",
   "metadata": {},
   "outputs": [],
   "source": [
    "# Function to display layout when file is uploaded\n",
    "def display_layout(*args):\n",
    "    global sensor_animal_map\n",
    "    # Convert the raw bytes loaded from the user upload into\n",
    "    # a UTF-8 encoded string, then use io.StringIO to turn the\n",
    "    # string back into a file. Kind of annoying that the FileUpload\n",
    "    # widget gives a raw bytearray instead of a file handle,\n",
    "    # but this works.\n",
    "    string_ = str(file_upload.value[0].content.tobytes(), 'utf8')\n",
    "    str_upload = StringIO(string_)\n",
    "    # Print the layout from the uploaded file\n",
    "    layout = pd.read_csv(str_upload, header=None, index_col=0)\n",
    "    layout.index.name = 'Sensor'\n",
    "    layout.columns = ['Animal ID']\n",
    "    with layout_output:\n",
    "        print(layout)\n",
    "        sensor_animal_map = layout"
   ]
  },
  {
   "cell_type": "code",
   "execution_count": 4,
   "id": "3e7bed41-dc69-4fa3-ad14-743d3776e6f2",
   "metadata": {},
   "outputs": [
    {
     "data": {
      "application/vnd.jupyter.widget-view+json": {
       "model_id": "33c23712728e4f04b46473d952dfd7f5",
       "version_major": 2,
       "version_minor": 0
      },
      "text/plain": [
       "VBox(children=(FileUpload(value=(), accept='.csv', description='Upload cage layout CSV file', layout=Layout(wi…"
      ]
     },
     "metadata": {},
     "output_type": "display_data"
    }
   ],
   "source": [
    "# File upload widget for cage layouts\n",
    "file_upload = widgets.FileUpload(\n",
    "    accept='.csv',\n",
    "    multiple=False,\n",
    "    description='Upload cage layout CSV file',\n",
    "    layout={'width':'300px'}\n",
    ")\n",
    "# Watch for the user to upload a file, then call the\n",
    "# display function\n",
    "file_upload.observe(display_layout, 'value')\n",
    "\n",
    "# Organize and display the widgets\n",
    "layout_output = widgets.Output()\n",
    "layout_display_box = widgets.VBox([file_upload, layout_output])\n",
    "\n",
    "display(layout_display_box)"
   ]
  },
  {
   "cell_type": "code",
   "execution_count": 5,
   "id": "3745ad3e-bc0f-452b-b371-ab5c291ac4fe",
   "metadata": {},
   "outputs": [],
   "source": [
    "data_dict = {}\n",
    "# We only expect up to 3 nested levels based on the DataRecording notebook\n",
    "with h5py.File(recording_filename, 'r') as h5f:\n",
    "    for k,v in h5f.items():\n",
    "        data_dict[k] = {} if isinstance(v, h5py._hl.group.Group) else v\n",
    "        if not isinstance(data_dict[k], dict): continue\n",
    "        for k2,v2 in v.items():\n",
    "            data_dict[k][k2] = {} if isinstance(v2, h5py._hl.group.Group) else v2[()]\n",
    "            if not isinstance(data_dict[k][k2], dict): continue\n",
    "            for k3,v3 in v2.items():\n",
    "                data_dict[k][k2][k3] = v3[()]\n",
    "            #data_dict[k][k2] = v2[()]"
   ]
  },
  {
   "cell_type": "code",
   "execution_count": 6,
   "id": "f3e80ae2-f090-441f-976a-3aa86765d268",
   "metadata": {},
   "outputs": [],
   "source": [
    "# Loop through all boards and sensors and truncate at start_time and stop_time, then subtract the first time point from the data\n",
    "for board_id, board_data in data_dict.items():\n",
    "    for sensor_id, sensor_data in board_data.items():\n",
    "        if 'start_time' not in sensor_data.keys():\n",
    "            sensor_data['fs'] = len(sensor_data['cap_data'])/(sensor_data['time_data'][-1] - sensor_data['time_data'][0])\n",
    "            continue\n",
    "        else:\n",
    "            start_idx = np.argmin(np.abs(sensor_data['time_data'] - sensor_data['start_time']))\n",
    "            stop_idx = np.argmin(np.abs(sensor_data['time_data'] - sensor_data['stop_time']))\n",
    "            \n",
    "            if sensor_data['stop_time'] - sensor_data['start_time'] <= 1000:\n",
    "                print(f\"{board_id} {sensor_id} likely had a false start/stop, the stop time is less than 1000 seconds after start\")\n",
    "\n",
    "            sensor_data['time_data'] = sensor_data['time_data'][start_idx:stop_idx] - sensor_data['start_time']\n",
    "            sensor_data['cap_data'] = sensor_data['cap_data'][start_idx:stop_idx]\n",
    "            sensor_data['fs'] = (stop_idx - start_idx)/(sensor_data['stop_time'] - sensor_data['start_time'])\n",
    "            \n",
    "            if 'stop_vol' in sensor_data.keys():\n",
    "                sensor_data['consumed_vol'] = sensor_data['start_vol'] - sensor_data['stop_vol']"
   ]
  },
  {
   "cell_type": "code",
   "execution_count": 7,
   "id": "14444bc5-b42f-4941-881d-7f612a77423a",
   "metadata": {},
   "outputs": [],
   "source": [
    "# Reorganize the data to be by animal ID, agnostic wrt any board/sensor numbering\n",
    "data_by_animal = {}\n",
    "for idx,row in sensor_animal_map.iterrows():\n",
    "    sensor = row.name\n",
    "    animal = row.item()\n",
    "    # We need to determine which FT232H was used for the recordings\n",
    "    if sensor in [1,2,3,7,8,9]:\n",
    "        board_id = 'board_FT232H0'\n",
    "    elif sensor in [4,5,6,10,11,12]:\n",
    "        board_id = 'board_FT232H1'\n",
    "    elif sensor in [13,14,15,19,20,21]:\n",
    "        board_id = 'board_FT232H2'\n",
    "    elif sensor in [16,17,18,22,23,24]:\n",
    "        board_id = 'board_FT232H3'\n",
    "    try:\n",
    "        data_by_animal[animal] = data_dict[board_id][f\"sensor_{sensor}\"]\n",
    "    except KeyError as e:\n",
    "        print(f\"Missing key in data_dict: {e}\")"
   ]
  },
  {
   "cell_type": "code",
   "execution_count": 8,
   "id": "df6bd76b",
   "metadata": {},
   "outputs": [],
   "source": [
    "data_by_animal['A7']['time_data'] = data_by_animal['A7']['time_data'][1000:]\n",
    "data_by_animal['A7']['cap_data'] = data_by_animal['A7']['cap_data'][1000:]\n",
    "\n",
    "for (animal, data) in data_by_animal.items():\n",
    "    data['time_data'] = data['time_data'][:-250]\n",
    "    data['cap_data'] = data['cap_data'][:-250]"
   ]
  },
  {
   "cell_type": "code",
   "execution_count": 21,
   "id": "2dd7ceec",
   "metadata": {},
   "outputs": [
    {
     "name": "stdout",
     "output_type": "stream",
     "text": [
      "length of lick_times: 329\n",
      "length of lick_times: 149\n",
      "length of lick_times: 167\n",
      "length of lick_times: 247\n",
      "length of lick_times: 66\n",
      "length of lick_times: 165\n",
      "length of lick_times: 268\n",
      "length of lick_times: 155\n",
      "length of lick_times: 184\n",
      "length of lick_times: 250\n",
      "length of lick_times: 189\n",
      "length of lick_times: 120\n",
      "length of lick_times: 69\n",
      "length of lick_times: 161\n",
      "length of lick_times: 68\n",
      "length of lick_times: 196\n",
      "length of lick_times: 141\n",
      "length of lick_times: 182\n"
     ]
    }
   ],
   "source": [
    "# Trying a mix of using raw trace and Hilbert envelope to find licks\n",
    "for (animal, data) in data_by_animal.items():\n",
    "    if animal in ['A1', 'A2', 'A3', 'A4', 'A5', 'A6']: continue\n",
    "    fs = data['fs']\n",
    "    trace = data['cap_data']\n",
    "\n",
    "    # 1a) 8–12 Hz band-pass\n",
    "    bh, ah = ssignal.butter(2, 6, btype='high', fs=fs)\n",
    "    bl, al = ssignal.butter(2, 14, btype='low', fs=fs)\n",
    "    filtered_data = ssignal.filtfilt(bh, ah, trace)\n",
    "    filtered_data = ssignal.filtfilt(bl, al, filtered_data)\n",
    "    filtered_data = [ssignal.filtfilt(bh, ah, filtered_data) for _ in range(3)][-1]\n",
    "    filtered_data = [ssignal.filtfilt(bl, al, filtered_data) for _ in range(3)][-1]\n",
    "\n",
    "    # 1b) analytic signal → envelope\n",
    "    env = np.abs(ssignal.hilbert(filtered_data))\n",
    "\n",
    "    # 2) thresholding\n",
    "    env_thr  = 0.4 * np.max(env)\n",
    "    env_mask = env > env_thr\n",
    "\n",
    "    # 3) Raw threshold crossings\n",
    "    baseline = np.median(trace[:int(fs)])  \n",
    "    depth    = baseline - np.min(trace)\n",
    "    # raw_thr  = baseline - 0.4*depth     # tune the fraction\n",
    "\n",
    "    # where we go from above → below the raw_thr\n",
    "    downs = np.where((trace[:-1] > trace[1:]))[0] + 1\n",
    "\n",
    "    # 4a) gate by envelope mask\n",
    "    candidates = [i for i in downs if env_mask[i]]\n",
    "\n",
    "    # 4b) enforce at least ~80 ms (0.08 s) between licks (mice shouldn't be licking faster than that)\n",
    "    min_dist = int(0.08 * fs)\n",
    "    lick_idxs = []\n",
    "    for idx in candidates:\n",
    "        if not lick_idxs or (idx - lick_idxs[-1]) > min_dist:\n",
    "            lick_idxs.append(idx)\n",
    "\n",
    "    # convert to timestamps\n",
    "    lick_times = np.array(lick_idxs) / fs\n",
    "\n",
    "    data['lick_times'] = lick_times\n",
    "    data['lick_indices'] = lick_idxs\n",
    "\n",
    "    # print(f\"lick_times: {lick_times}\")\n",
    "    num_licks = len(lick_times)\n",
    "    data['num_licks'] = num_licks\n",
    "    print(f\"length of lick_times: {num_licks}\")\n"
   ]
  },
  {
   "cell_type": "code",
   "execution_count": 23,
   "id": "6ce302f2",
   "metadata": {},
   "outputs": [
    {
     "data": {
      "text/plain": [
       "[Text(0.5, 1.0, 'A9')]"
      ]
     },
     "execution_count": 23,
     "metadata": {},
     "output_type": "execute_result"
    },
    {
     "data": {
      "application/vnd.jupyter.widget-view+json": {
       "model_id": "b8a143dbc9e1469c84f51dad75e733c6",
       "version_major": 2,
       "version_minor": 0
      },
      "image/png": "[encoded data removed]",
      "text/html": [
       "\n",
       "            <div style=\"display: inline-block;\">\n",
       "                <div class=\"jupyter-widgets widget-label\" style=\"text-align: center;\">\n",
       "                    Figure\n",
       "                </div>\n",
       "                <img src='data:image/png;base64,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' width=640.0/>\n",
       "            </div>\n",
       "        "
      ],
      "text/plain": [
       "Canvas(toolbar=Toolbar(toolitems=[('Home', 'Reset original view', 'home', 'home'), ('Back', 'Back to previous …"
      ]
     },
     "metadata": {},
     "output_type": "display_data"
    }
   ],
   "source": [
    "%matplotlib widget\n",
    "\n",
    "# Make an interactive plot of a single animal's data\n",
    "animal = 'A9'\n",
    "masked_data = data_by_animal[animal]['cap_data'][data_by_animal[animal]['lick_indices']]\n",
    "masked_time = data_by_animal[animal]['time_data'][data_by_animal[animal]['lick_indices']]\n",
    "\n",
    "fig, ax = plt.subplots(nrows=1)\n",
    "ax.plot(data_by_animal[animal]['time_data'], data_by_animal[animal]['cap_data'])\n",
    "ax.scatter(masked_time, masked_data, c='red')\n",
    "ax.set(title=animal)\n",
    "# plt.savefig(f\"Recording Figures/{animal}_recording_{recording_datetime}.png\", dpi=300)\n",
    "# plt.close(fig)"
   ]
  },
  {
   "cell_type": "code",
   "execution_count": 64,
   "id": "c41e1dca",
   "metadata": {},
   "outputs": [],
   "source": [
    "%matplotlib widget\n",
    "# fig, axes = plt.subplots(nrows=len(data_by_animal.keys()), figsize=(10,10))\n",
    "# plt.subplots_adjust(hspace=0.5)\n",
    "\n",
    "for animal, data in data_by_animal.items():\n",
    "    if animal in ['A1', 'A2', 'A3', 'A4', 'A5', 'A6']: continue\n",
    "    lick_indices = data['lick_indices']\n",
    "    masked_data = data['cap_data'][lick_indices]\n",
    "    masked_time = data['time_data'][lick_indices]\n",
    "    # masked_data = data['cap_data'][data['peaks']]\n",
    "    # masked_time = data['time_data'][data['peaks']]\n",
    "    \n",
    "    fig, ax = plt.subplots(nrows=1)\n",
    "    ax.plot(data['time_data'], data['cap_data'])\n",
    "    ax.scatter(masked_time, masked_data, c='red')\n",
    "    ax.set(title=animal)\n",
    "    plt.savefig(f\"Recording Figures/{animal}_recording_{recording_datetime}.png\", dpi=300)\n",
    "    plt.close(fig)"
   ]
  },
  {
   "cell_type": "code",
   "execution_count": null,
   "id": "89f5f9fd",
   "metadata": {},
   "outputs": [],
   "source": [
    "%matplotlib widget\n",
    "# fig, axes = plt.subplots(nrows=len(data_by_animal.keys()), figsize=(10,10))\n",
    "# plt.subplots_adjust(hspace=0.5)\n",
    "\n",
    "for animal, data in data_by_animal.items():\n",
    "    if animal in ['A1', 'A2', 'A3', 'A4', 'A5', 'A6']: continue\n",
    "    masked_data = data['cap_data'][data['peaks']]\n",
    "    masked_time = data['time_data'][data['peaks']]\n",
    "    \n",
    "    fig, ax = plt.subplots(nrows=1)\n",
    "    ax.plot(data['time_data'], data['cap_data'])\n",
    "    ax.scatter(masked_time, masked_data, c='red')\n",
    "    ax.set(title=animal)\n",
    "    plt.savefig(f\"Recording Figures/{animal}_recording_{recording_datetime}.png\", dpi=300)\n",
    "    plt.close(fig)"
   ]
  },
  {
   "cell_type": "code",
   "execution_count": 24,
   "id": "5af99ada-a9c6-43fd-8d39-97131976d1ec",
   "metadata": {},
   "outputs": [],
   "source": [
    "consumed_vols = []\n",
    "licks = []\n",
    "for animal, data in data_by_animal.items():\n",
    "    if animal in ['A1', 'A2', 'A3', 'A4', 'A5', 'A6']: continue\n",
    "\n",
    "    consumed_vols.append(data['consumed_vol'])\n",
    "    licks.append(data['num_licks'])"
   ]
  },
  {
   "cell_type": "code",
   "execution_count": 25,
   "id": "684cf5b6-a7f2-498a-b9d0-adf04bf176a3",
   "metadata": {},
   "outputs": [],
   "source": [
    "res = pearsonr(consumed_vols, licks)"
   ]
  },
  {
   "cell_type": "code",
   "execution_count": 26,
   "id": "73553a75-f40a-4d10-bf91-7c6023496f55",
   "metadata": {},
   "outputs": [
    {
     "data": {
      "text/plain": [
       "np.float64(0.6149719969652621)"
      ]
     },
     "execution_count": 26,
     "metadata": {},
     "output_type": "execute_result"
    }
   ],
   "source": [
    "res.statistic"
   ]
  },
  {
   "cell_type": "code",
   "execution_count": 27,
   "id": "11dfcd90-e5a7-4428-ac0c-312b3946a6c8",
   "metadata": {},
   "outputs": [
    {
     "data": {
      "text/plain": [
       "np.float64(0.3781905570514423)"
      ]
     },
     "execution_count": 27,
     "metadata": {},
     "output_type": "execute_result"
    }
   ],
   "source": [
    "res.statistic**2"
   ]
  },
  {
   "cell_type": "code",
   "execution_count": null,
   "id": "6efa897c",
   "metadata": {},
   "outputs": [],
   "source": []
  }
 ],
 "metadata": {
  "kernelspec": {
   "display_name": ".venv",
   "language": "python",
   "name": "python3"
  },
  "language_info": {
   "codemirror_mode": {
    "name": "ipython",
    "version": 3
   },
   "file_extension": ".py",
   "mimetype": "text/x-python",
   "name": "python",
   "nbconvert_exporter": "python",
   "pygments_lexer": "ipython3",
   "version": "3.12.6"
  }
 },
 "nbformat": 4,
 "nbformat_minor": 5
}
