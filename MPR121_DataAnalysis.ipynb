{
 "cells": [
  {
   "cell_type": "markdown",
   "id": "86ef331c-8252-4e88-a65d-06dec6fedfc8",
   "metadata": {},
   "source": [
    "# MPR121 Data Analysis Notebook\n",
    "Author: Christopher Parker (parkecp@mail.uc.edu)"
   ]
  },
  {
   "cell_type": "code",
   "execution_count": 2,
   "id": "6a28bbef-4321-4c01-83e7-a09319e73c27",
   "metadata": {},
   "outputs": [],
   "source": [
    "import os\n",
    "from io import StringIO\n",
    "import h5py\n",
    "import matplotlib\n",
    "import matplotlib.pyplot as plt\n",
    "import numpy as np\n",
    "import pandas as pd\n",
    "import scipy.signal as scs\n",
    "import scipy.optimize as sco\n",
    "from scipy.stats import pearsonr\n",
    "import ipywidgets as widgets"
   ]
  },
  {
   "cell_type": "code",
   "execution_count": 84,
   "id": "4f450c91-448f-4ba7-a200-a539d3541ae1",
   "metadata": {},
   "outputs": [],
   "source": [
    "# Load the data by filename\n",
    "recording_filename = 'raw_data_2025-05-07_13-55-27.h5'\n",
    "\n",
    "# Determine what date/time the recording was started (for\n",
    "# use in saving figures later with the proper date/time)\n",
    "recording_datetime = os.path.splitext(recording_filename)[0]\n",
    "recording_datetime = recording_datetime.split('raw_data_')[1]\n",
    "\n",
    "if not os.path.exists('Filtered Data Figures'):\n",
    "    os.mkdir('Filtered Data Figures')\n",
    "if not os.path.exists('Recording Figures'):\n",
    "    os.mkdir('Recording Figures')"
   ]
  },
  {
   "cell_type": "code",
   "execution_count": 85,
   "id": "3ba60ce4-724e-4298-ac66-df1d25ada44b",
   "metadata": {},
   "outputs": [],
   "source": [
    "# Load the data by filename\n",
    "recording_filename2 = 'raw_data_2025-04-25_12-37-13.h5'\n",
    "\n",
    "# Determine what date/time the recording was started (for\n",
    "# use in saving figures later with the proper date/time)\n",
    "recording_datetime2 = os.path.splitext(recording_filename2)[0]\n",
    "recording_datetime2 = recording_datetime2.split('raw_data_')[1]\n",
    "\n",
    "if not os.path.exists('Filtered Data Figures'):\n",
    "    os.mkdir('Filtered Data Figures')\n",
    "if not os.path.exists('Recording Figures'):\n",
    "    os.mkdir('Recording Figures')"
   ]
  },
  {
   "cell_type": "code",
   "execution_count": 86,
   "id": "e43f9c38-c23e-4d2b-8a7f-37f585708f69",
   "metadata": {},
   "outputs": [],
   "source": [
    "# Function to display layout when file is uploaded\n",
    "def display_layout(*args):\n",
    "    global sensor_animal_map\n",
    "    # Convert the raw bytes loaded from the user upload into\n",
    "    # a UTF-8 encoded string, then use io.StringIO to turn the\n",
    "    # string back into a file. Kind of annoying that the FileUpload\n",
    "    # widget gives a raw bytearray instead of a file handle,\n",
    "    # but this works.\n",
    "    string_ = str(file_upload.value[0].content.tobytes(), 'utf8')\n",
    "    str_upload = StringIO(string_)\n",
    "    # Print the layout from the uploaded file\n",
    "    layout = pd.read_csv(str_upload, header=None, index_col=0)\n",
    "    layout.index.name = 'Sensor'\n",
    "    layout.columns = ['Animal ID']\n",
    "    with layout_output:\n",
    "        print(layout)\n",
    "        sensor_animal_map = layout"
   ]
  },
  {
   "cell_type": "code",
   "execution_count": 87,
   "id": "3e7bed41-dc69-4fa3-ad14-743d3776e6f2",
   "metadata": {},
   "outputs": [
    {
     "data": {
      "application/vnd.jupyter.widget-view+json": {
       "model_id": "0d6347e1f66c4c09af8bf3198553f184",
       "version_major": 2,
       "version_minor": 0
      },
      "text/plain": [
       "VBox(children=(FileUpload(value=(), accept='.csv', description='Upload cage layout CSV file', layout=Layout(wi…"
      ]
     },
     "metadata": {},
     "output_type": "display_data"
    }
   ],
   "source": [
    "# File upload widget for cage layouts\n",
    "file_upload = widgets.FileUpload(\n",
    "    accept='.csv',\n",
    "    multiple=False,\n",
    "    description='Upload cage layout CSV file',\n",
    "    layout={'width':'300px'}\n",
    ")\n",
    "# Watch for the user to upload a file, then call the\n",
    "# display function\n",
    "file_upload.observe(display_layout, 'value')\n",
    "\n",
    "# Organize and display the widgets\n",
    "layout_output = widgets.Output()\n",
    "layout_display_box = widgets.VBox([file_upload, layout_output])\n",
    "\n",
    "display(layout_display_box)"
   ]
  },
  {
   "cell_type": "code",
   "execution_count": 88,
   "id": "3745ad3e-bc0f-452b-b371-ab5c291ac4fe",
   "metadata": {},
   "outputs": [],
   "source": [
    "data_dict = {}\n",
    "# We only expect up to 3 nested levels based on the DataRecording notebook\n",
    "with h5py.File(recording_filename, 'r') as h5f:\n",
    "    for k,v in h5f.items():\n",
    "        data_dict[k] = {} if isinstance(v, h5py._hl.group.Group) else v\n",
    "        if not isinstance(data_dict[k], dict): continue\n",
    "        for k2,v2 in v.items():\n",
    "            data_dict[k][k2] = {} if isinstance(v2, h5py._hl.group.Group) else v2[()]\n",
    "            if not isinstance(data_dict[k][k2], dict): continue\n",
    "            for k3,v3 in v2.items():\n",
    "                data_dict[k][k2][k3] = v3[()]"
   ]
  },
  {
   "cell_type": "code",
   "execution_count": 89,
   "id": "f3e80ae2-f090-441f-976a-3aa86765d268",
   "metadata": {},
   "outputs": [],
   "source": [
    "# Loop through all boards and sensors and truncate at start_time and stop_time, then subtract the first time point from the data\n",
    "for board_id, board_data in data_dict.items():\n",
    "    for sensor_id, sensor_data in board_data.items():\n",
    "        if 'start_time' not in sensor_data.keys():\n",
    "            sensor_data['fs'] = len(sensor_data['cap_data'])/(sensor_data['time_data'][-1] - sensor_data['time_data'][0])\n",
    "            continue\n",
    "        else:\n",
    "            start_idx = np.argmin(np.abs(sensor_data['time_data'] - sensor_data['start_time']))\n",
    "            stop_idx = np.argmin(np.abs(sensor_data['time_data'] - sensor_data['stop_time']))\n",
    "            \n",
    "            if sensor_data['stop_time'] - sensor_data['start_time'] <= 1000:\n",
    "                print(f\"{board_id} {sensor_id} likely had a false start/stop, the stop time is less than 1000 seconds after start\")\n",
    "\n",
    "            sensor_data['time_data'] = sensor_data['time_data'][start_idx:stop_idx] - sensor_data['start_time']\n",
    "            sensor_data['cap_data'] = sensor_data['cap_data'][start_idx:stop_idx]\n",
    "            sensor_data['fs'] = (stop_idx - start_idx)/(sensor_data['stop_time'] - sensor_data['start_time'])\n",
    "            \n",
    "            if 'stop_vol' in sensor_data.keys():\n",
    "                sensor_data['consumed_vol'] = sensor_data['start_vol'] - sensor_data['stop_vol']"
   ]
  },
  {
   "cell_type": "code",
   "execution_count": 90,
   "id": "14444bc5-b42f-4941-881d-7f612a77423a",
   "metadata": {},
   "outputs": [],
   "source": [
    "# Reorganize the data to be by animal ID, agnostic wrt any board/sensor numbering\n",
    "data_by_animal = {}\n",
    "for idx,row in sensor_animal_map.iterrows():\n",
    "    sensor = row.name\n",
    "    animal = row.item()\n",
    "    # We need to determine which FT232H was used for the recordings\n",
    "    if sensor in [1,2,3,7,8,9]:\n",
    "        board_id = 'board_FT232H0'\n",
    "    elif sensor in [4,5,6,10,11,12]:\n",
    "        board_id = 'board_FT232H1'\n",
    "    elif sensor in [13,14,15,19,20,21]:\n",
    "        board_id = 'board_FT232H2'\n",
    "    elif sensor in [16,17,18,22,23,24]:\n",
    "        board_id = 'board_FT232H3'\n",
    "    try:\n",
    "        data_by_animal[animal] = data_dict[board_id][f\"sensor_{sensor}\"]\n",
    "    except KeyError as e:\n",
    "        print(f\"Missing key in data_dict: {e}\")"
   ]
  },
  {
   "cell_type": "code",
   "execution_count": 91,
   "id": "df6bd76b",
   "metadata": {},
   "outputs": [],
   "source": [
    "# data_by_animal['A7']['time_data'] = data_by_animal['A7']['time_data'][1000:]\n",
    "# data_by_animal['A7']['cap_data'] = data_by_animal['A7']['cap_data'][1000:]\n",
    "\n",
    "for (animal, data) in data_by_animal.items():\n",
    "    data['time_data'] = data['time_data'][:-250]\n",
    "    data['cap_data'] = data['cap_data'][:-250]"
   ]
  },
  {
   "cell_type": "code",
   "execution_count": 128,
   "id": "2dd7ceec",
   "metadata": {},
   "outputs": [
    {
     "name": "stdout",
     "output_type": "stream",
     "text": [
      "length of lick_times: 357\n"
     ]
    }
   ],
   "source": [
    "# Trying a mix of using raw trace and Hilbert envelope to find licks\n",
    "for (animal, data) in data_by_animal.items():\n",
    "    # if animal in ['A1', 'A2', 'A3', 'A4', 'A5', 'A6']: continue\n",
    "    if animal != 'A9': continue\n",
    "    fs = data['fs']\n",
    "    trace = data['cap_data']\n",
    "\n",
    "    # 8–12 Hz band-pass applied as high- then low-pass\n",
    "    bh, ah = scs.butter(4, 8, btype='high', fs=fs)\n",
    "    bl, al = scs.butter(8, 12, btype='low', fs=fs)\n",
    "    filtered_data = scs.filtfilt(bh, ah, trace)\n",
    "    filtered_data = scs.filtfilt(bl, al, filtered_data)\n",
    "    filtered_data = [scs.filtfilt(bh, ah, filtered_data) for _ in range(6)][-1]\n",
    "    filtered_data = [scs.filtfilt(bl, al, filtered_data) for _ in range(6)][-1]\n",
    "\n",
    "    # Convert filtered data to Hilbert envelope\n",
    "    env = np.abs(scs.hilbert(filtered_data))\n",
    "\n",
    "    # Thresholding with Hilbert envelope\n",
    "    env_thr  = 0.261 * np.max(env)\n",
    "    env_mask = env > env_thr\n",
    "\n",
    "    # Where the value decreases from one point to the next\n",
    "    downs = np.where((trace[:-1] > trace[1:]))[0] + 1\n",
    "\n",
    "    # Apply envelope mask\n",
    "    candidates = [i for i in downs if env_mask[i]]\n",
    "\n",
    "    # At least ~80 ms (0.08 s) between licks (mice shouldn't be licking faster than that)\n",
    "    min_dist = int(0.08 * fs)\n",
    "    lick_idxs = []\n",
    "    for idx in candidates:\n",
    "        if not lick_idxs or (idx - lick_idxs[-1]) > min_dist:\n",
    "            lick_idxs.append(idx)\n",
    "\n",
    "    # At most 500 ms between licks. This is probably overly permissive,\n",
    "    # but we need some way to say \n",
    "    # \"it's impossible to tell if a single lick is really a lick\"\n",
    "    # convert to timestamps\n",
    "    max_dist = int(0.5 * fs)\n",
    "    lick_idxs_ = []\n",
    "    for i, idx in enumerate(lick_idxs):\n",
    "        # Only check to the right on the first loop and left on the last:\n",
    "        if i == 0: \n",
    "            ir = lick_idxs[i+1]\n",
    "            ir2 = lick_idxs[i+2]\n",
    "            if np.abs(idx - ir) < max_dist and np.abs(idx - ir2) < 2*max_dist:\n",
    "                lick_idxs_.append(idx)\n",
    "            continue\n",
    "        if i == len(lick_idxs)-1: \n",
    "            il = lick_idxs[i-1]\n",
    "            il2 = lick_idxs[i-2]\n",
    "            if np.abs(idx - il) < max_dist and np.abs(idx - il2) < 2*max_dist:\n",
    "                lick_idxs_.append(idx)\n",
    "            continue\n",
    "        il = lick_idxs[i-1]\n",
    "        ir = lick_idxs[i+1]\n",
    "        if np.abs(idx - il) < max_dist and np.abs(idx - ir) < max_dist:\n",
    "            lick_idxs_.append(idx)\n",
    "            continue\n",
    "        elif np.abs(idx - il) < max_dist:\n",
    "            if i == 1: continue # Make sure we have 2 points to the left\n",
    "            il2 = lick_idxs[i-2]\n",
    "            if np.abs(idx - il2) < 2*max_dist:\n",
    "                lick_idxs_.append(idx)\n",
    "            continue\n",
    "        elif np.abs(idx - ir) < max_dist:\n",
    "            if i >= len(lick_idxs)-2: continue # Make sure there are 2 points to the right\n",
    "            ir2 = lick_idxs[i+2]\n",
    "            if np.abs(idx - ir2) < 2*max_dist:\n",
    "                lick_idxs_.append(idx)\n",
    "            continue\n",
    "    lick_idxs = lick_idxs_\n",
    "    lick_times = np.array(lick_idxs) / fs\n",
    "    data['lick_times'] = lick_times\n",
    "    data['lick_indices'] = lick_idxs\n",
    "\n",
    "    # print(f\"lick_times: {lick_times}\")\n",
    "    num_licks = len(lick_times)\n",
    "    data['num_licks'] = num_licks\n",
    "    print(f\"length of lick_times: {num_licks}\")"
   ]
  },
  {
   "cell_type": "code",
   "execution_count": 126,
   "id": "6ce302f2",
   "metadata": {},
   "outputs": [
    {
     "data": {
      "text/plain": [
       "[Text(0.5, 1.0, 'A9')]"
      ]
     },
     "execution_count": 126,
     "metadata": {},
     "output_type": "execute_result"
    },
    {
     "data": {
      "application/vnd.jupyter.widget-view+json": {
       "model_id": "aade807811da4e0090e3ab71ddd6c72c",
       "version_major": 2,
       "version_minor": 0
      },
      "image/png": "[encoded data removed]",
      "text/html": [
       "\n",
       "            <div style=\"display: inline-block;\">\n",
       "                <div class=\"jupyter-widgets widget-label\" style=\"text-align: center;\">\n",
       "                    Figure\n",
       "                </div>\n",
       "                <img src='data:image/png;base64,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' width=640.0/>\n",
       "            </div>\n",
       "        "
      ],
      "text/plain": [
       "Canvas(toolbar=Toolbar(toolitems=[('Home', 'Reset original view', 'home', 'home'), ('Back', 'Back to previous …"
      ]
     },
     "metadata": {},
     "output_type": "display_data"
    }
   ],
   "source": [
    "%matplotlib widget\n",
    "\n",
    "# Make an interactive plot of a single animal's data\n",
    "animal = 'A9'\n",
    "masked_data = data_by_animal[animal]['cap_data'][data_by_animal[animal]['lick_indices']]\n",
    "masked_time = data_by_animal[animal]['time_data'][data_by_animal[animal]['lick_indices']]\n",
    "\n",
    "fig, ax = plt.subplots(nrows=1)\n",
    "ax.plot(data_by_animal[animal]['time_data'], data_by_animal[animal]['cap_data'])\n",
    "ax.scatter(masked_time, masked_data, c='red')\n",
    "ax.set(title=animal)\n",
    "# plt.savefig(f\"Recording Figures/{animal}_recording_{recording_datetime}.png\", dpi=300)\n",
    "# plt.close(fig)"
   ]
  },
  {
   "cell_type": "code",
   "execution_count": 12,
   "id": "c41e1dca",
   "metadata": {},
   "outputs": [],
   "source": [
    "%matplotlib widget\n",
    "# fig, axes = plt.subplots(nrows=len(data_by_animal.keys()), figsize=(10,10))\n",
    "# plt.subplots_adjust(hspace=0.5)\n",
    "\n",
    "for animal, data in data_by_animal.items():\n",
    "    if animal in ['A1', 'A2', 'A3', 'A4', 'A5', 'A6']: continue\n",
    "    lick_indices = data['lick_indices']\n",
    "    masked_data = data['cap_data'][lick_indices]\n",
    "    masked_time = data['time_data'][lick_indices]\n",
    "    # masked_data = data['cap_data'][data['peaks']]\n",
    "    # masked_time = data['time_data'][data['peaks']]\n",
    "    \n",
    "    fig, ax = plt.subplots(nrows=1)\n",
    "    ax.plot(data['time_data'], data['cap_data'])\n",
    "    ax.scatter(masked_time, masked_data, c='red')\n",
    "    ax.set(title=animal)\n",
    "    plt.savefig(f\"Recording Figures/{animal}_recording_{recording_datetime}.png\", dpi=300)\n",
    "    plt.close(fig)"
   ]
  },
  {
   "cell_type": "code",
   "execution_count": null,
   "id": "89f5f9fd",
   "metadata": {},
   "outputs": [],
   "source": [
    "%matplotlib widget\n",
    "# fig, axes = plt.subplots(nrows=len(data_by_animal.keys()), figsize=(10,10))\n",
    "# plt.subplots_adjust(hspace=0.5)\n",
    "\n",
    "for animal, data in data_by_animal.items():\n",
    "    if animal in ['A1', 'A2', 'A3', 'A4', 'A5', 'A6']: continue\n",
    "    masked_data = data['cap_data'][data['peaks']]\n",
    "    masked_time = data['time_data'][data['peaks']]\n",
    "    \n",
    "    fig, ax = plt.subplots(nrows=1)\n",
    "    ax.plot(data['time_data'], data['cap_data'])\n",
    "    ax.scatter(masked_time, masked_data, c='red')\n",
    "    ax.set(title=animal)\n",
    "    plt.savefig(f\"Recording Figures/{animal}_recording_{recording_datetime}.png\", dpi=300)\n",
    "    plt.close(fig)"
   ]
  },
  {
   "cell_type": "code",
   "execution_count": 77,
   "id": "5af99ada-a9c6-43fd-8d39-97131976d1ec",
   "metadata": {},
   "outputs": [],
   "source": [
    "consumed_vols = []\n",
    "licks = []\n",
    "for animal, data in data_by_animal.items():\n",
    "    if animal in ['A1', 'A2', 'A3', 'A4', 'A5', 'A6',]: continue\n",
    "\n",
    "    consumed_vols.append(data['consumed_vol'])\n",
    "    licks.append(data['num_licks'])"
   ]
  },
  {
   "cell_type": "code",
   "execution_count": 78,
   "id": "e9246c80-d9fd-4793-a2e7-63dee9040356",
   "metadata": {},
   "outputs": [
    {
     "name": "stdout",
     "output_type": "stream",
     "text": [
      "[575, 272, 248, 354, 327, 271, 390, 371, 321, 356, 330, 278, 121, 232, 223, 324, 215, 366, 449]\n",
      "19\n"
     ]
    }
   ],
   "source": [
    "licks = licks + [449]\n",
    "print(licks)\n",
    "print(len(licks))"
   ]
  },
  {
   "cell_type": "code",
   "execution_count": 79,
   "id": "4064539e-de25-46d7-9985-678122cb5361",
   "metadata": {},
   "outputs": [
    {
     "name": "stdout",
     "output_type": "stream",
     "text": [
      "[np.float64(0.7000000000000011), np.float64(0.25), np.float64(0.29999999999999893), np.float64(0.45000000000000107), np.float64(0.3500000000000014), np.float64(0.25), np.float64(0.34999999999999964), np.float64(0.4499999999999993), np.float64(0.5), np.float64(0.5), np.float64(0.40000000000000036), np.float64(0.34999999999999964), np.float64(0.09999999999999964), np.float64(0.1999999999999993), np.float64(0.3999999999999986), np.float64(0.3000000000000007), np.float64(0.40000000000000036), np.float64(0.34999999999999964), np.float64(0.5)]\n",
      "19\n"
     ]
    }
   ],
   "source": [
    "consumed_vols = consumed_vols + [np.float64(0.5)]\n",
    "print(consumed_vols)\n",
    "print(len(consumed_vols))"
   ]
  },
  {
   "cell_type": "code",
   "execution_count": 80,
   "id": "684cf5b6-a7f2-498a-b9d0-adf04bf176a3",
   "metadata": {},
   "outputs": [],
   "source": [
    "res = pearsonr(consumed_vols, licks)"
   ]
  },
  {
   "cell_type": "code",
   "execution_count": 81,
   "id": "73553a75-f40a-4d10-bf91-7c6023496f55",
   "metadata": {},
   "outputs": [
    {
     "data": {
      "text/plain": [
       "np.float64(0.8130799190078554)"
      ]
     },
     "execution_count": 81,
     "metadata": {},
     "output_type": "execute_result"
    }
   ],
   "source": [
    "res.statistic"
   ]
  },
  {
   "cell_type": "code",
   "execution_count": 27,
   "id": "11dfcd90-e5a7-4428-ac0c-312b3946a6c8",
   "metadata": {},
   "outputs": [
    {
     "data": {
      "text/plain": [
       "np.float64(0.3781905570514423)"
      ]
     },
     "execution_count": 27,
     "metadata": {},
     "output_type": "execute_result"
    }
   ],
   "source": [
    "res.statistic**2"
   ]
  },
  {
   "cell_type": "code",
   "execution_count": null,
   "id": "6efa897c",
   "metadata": {},
   "outputs": [],
   "source": []
  }
 ],
 "metadata": {
  "kernelspec": {
   "display_name": "Python 3 (ipykernel)",
   "language": "python",
   "name": "python3"
  },
  "language_info": {
   "codemirror_mode": {
    "name": "ipython",
    "version": 3
   },
   "file_extension": ".py",
   "mimetype": "text/x-python",
   "name": "python",
   "nbconvert_exporter": "python",
   "pygments_lexer": "ipython3",
   "version": "3.12.7"
  }
 },
 "nbformat": 4,
 "nbformat_minor": 5
}
