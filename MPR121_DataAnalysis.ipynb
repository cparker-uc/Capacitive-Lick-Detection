{
 "cells": [
  {
   "cell_type": "markdown",
   "id": "86ef331c-8252-4e88-a65d-06dec6fedfc8",
   "metadata": {},
   "source": [
    "# MPR121 Data Analysis Notebook\n",
    "Author: Christopher Parker (parkecp@mail.uc.edu)"
   ]
  },
  {
   "cell_type": "code",
   "execution_count": 1,
   "id": "6a28bbef-4321-4c01-83e7-a09319e73c27",
   "metadata": {},
   "outputs": [],
   "source": [
    "import os\n",
    "from io import StringIO\n",
    "import h5py\n",
    "import matplotlib\n",
    "import matplotlib.pyplot as plt\n",
    "import numpy as np\n",
    "import pandas as pd\n",
    "import scipy.signal as scs\n",
    "import scipy.optimize as sco\n",
    "from scipy.stats import pearsonr\n",
    "import ipywidgets as widgets"
   ]
  },
  {
   "cell_type": "code",
   "execution_count": 2,
   "id": "4f450c91-448f-4ba7-a200-a539d3541ae1",
   "metadata": {},
   "outputs": [],
   "source": [
    "# Load the data by filename\n",
    "recording_filename = 'raw_data_2025-04-24_11-39-40.h5'\n",
    "\n",
    "# Determine what date/time the recording was started (for\n",
    "# use in saving figures later with the proper date/time)\n",
    "recording_datetime = os.path.splitext(recording_filename)[0]\n",
    "recording_datetime = recording_datetime.split('raw_data_')[1]\n",
    "\n",
    "if not os.path.exists('Filtered Data Figures'):\n",
    "    os.mkdir('Filtered Data Figures')\n",
    "if not os.path.exists('Recording Figures'):\n",
    "    os.mkdir('Recording Figures')"
   ]
  },
  {
   "cell_type": "code",
   "execution_count": 3,
   "id": "e43f9c38-c23e-4d2b-8a7f-37f585708f69",
   "metadata": {},
   "outputs": [],
   "source": [
    "# Function to display layout when file is uploaded\n",
    "def display_layout(*args):\n",
    "    global sensor_animal_map\n",
    "    # Convert the raw bytes loaded from the user upload into\n",
    "    # a UTF-8 encoded string, then use io.StringIO to turn the\n",
    "    # string back into a file. Kind of annoying that the FileUpload\n",
    "    # widget gives a raw bytearray instead of a file handle,\n",
    "    # but this works.\n",
    "    string_ = str(file_upload.value[0].content.tobytes(), 'utf8')\n",
    "    str_upload = StringIO(string_)\n",
    "    # Print the layout from the uploaded file\n",
    "    layout = pd.read_csv(str_upload, header=None, index_col=0)\n",
    "    layout.index.name = 'Sensor'\n",
    "    layout.columns = ['Animal ID']\n",
    "    with layout_output:\n",
    "        print(layout)\n",
    "        sensor_animal_map = layout"
   ]
  },
  {
   "cell_type": "code",
   "execution_count": 4,
   "id": "3e7bed41-dc69-4fa3-ad14-743d3776e6f2",
   "metadata": {},
   "outputs": [
    {
     "data": {
      "application/vnd.jupyter.widget-view+json": {
       "model_id": "8115f0132a2c4f9ea0f25fe32605ea47",
       "version_major": 2,
       "version_minor": 0
      },
      "text/plain": [
       "VBox(children=(FileUpload(value=(), accept='.csv', description='Upload cage layout CSV file', layout=Layout(wi…"
      ]
     },
     "metadata": {},
     "output_type": "display_data"
    }
   ],
   "source": [
    "# File upload widget for cage layouts\n",
    "file_upload = widgets.FileUpload(\n",
    "    accept='.csv',\n",
    "    multiple=False,\n",
    "    description='Upload cage layout CSV file',\n",
    "    layout={'width':'300px'}\n",
    ")\n",
    "# Watch for the user to upload a file, then call the\n",
    "# display function\n",
    "file_upload.observe(display_layout, 'value')\n",
    "\n",
    "# Organize and display the widgets\n",
    "layout_output = widgets.Output()\n",
    "layout_display_box = widgets.VBox([file_upload, layout_output])\n",
    "\n",
    "display(layout_display_box)"
   ]
  },
  {
   "cell_type": "code",
   "execution_count": 5,
   "id": "3745ad3e-bc0f-452b-b371-ab5c291ac4fe",
   "metadata": {},
   "outputs": [],
   "source": [
    "data_dict = {}\n",
    "# We only expect up to 3 nested levels based on the DataRecording notebook\n",
    "with h5py.File(recording_filename, 'r') as h5f:\n",
    "    for k,v in h5f.items():\n",
    "        data_dict[k] = {} if isinstance(v, h5py._hl.group.Group) else v\n",
    "        if not isinstance(data_dict[k], dict): continue\n",
    "        for k2,v2 in v.items():\n",
    "            data_dict[k][k2] = {} if isinstance(v2, h5py._hl.group.Group) else v2[()]\n",
    "            if not isinstance(data_dict[k][k2], dict): continue\n",
    "            for k3,v3 in v2.items():\n",
    "                data_dict[k][k2][k3] = v3[()]\n",
    "            #data_dict[k][k2] = v2[()]"
   ]
  },
  {
   "cell_type": "code",
   "execution_count": 6,
   "id": "f3e80ae2-f090-441f-976a-3aa86765d268",
   "metadata": {},
   "outputs": [],
   "source": [
    "# Loop through all boards and sensors and truncate at start_time and stop_time, then subtract the first time point from the data\n",
    "for board_id, board_data in data_dict.items():\n",
    "    for sensor_id, sensor_data in board_data.items():\n",
    "        if 'start_time' not in sensor_data.keys():\n",
    "            sensor_data['fs'] = len(sensor_data['cap_data'])/(sensor_data['time_data'][-1] - sensor_data['time_data'][0])\n",
    "            continue\n",
    "        else:\n",
    "            start_idx = np.argmin(np.abs(sensor_data['time_data'] - sensor_data['start_time']))\n",
    "            stop_idx = np.argmin(np.abs(sensor_data['time_data'] - sensor_data['stop_time']))\n",
    "            \n",
    "            if sensor_data['stop_time'] - sensor_data['start_time'] <= 1000:\n",
    "                print(f\"{board_id} {sensor_id} likely had a false start/stop, the stop time is less than 1000 seconds after start\")\n",
    "\n",
    "            sensor_data['time_data'] = sensor_data['time_data'][start_idx:stop_idx] - sensor_data['start_time']\n",
    "            sensor_data['cap_data'] = sensor_data['cap_data'][start_idx:stop_idx]\n",
    "            sensor_data['fs'] = (stop_idx - start_idx)/(sensor_data['stop_time'] - sensor_data['start_time'])\n",
    "            \n",
    "            if 'stop_vol' in sensor_data.keys():\n",
    "                sensor_data['consumed_vol'] = sensor_data['start_vol'] - sensor_data['stop_vol']"
   ]
  },
  {
   "cell_type": "code",
   "execution_count": 7,
   "id": "14444bc5-b42f-4941-881d-7f612a77423a",
   "metadata": {},
   "outputs": [],
   "source": [
    "# Reorganize the data to be by animal ID, agnostic wrt any board/sensor numbering\n",
    "data_by_animal = {}\n",
    "for idx,row in sensor_animal_map.iterrows():\n",
    "    sensor = row.name\n",
    "    animal = row.item()\n",
    "    # We need to determine which FT232H was used for the recordings\n",
    "    if sensor in [1,2,3,7,8,9]:\n",
    "        board_id = 'board_FT232H0'\n",
    "    elif sensor in [4,5,6,10,11,12]:\n",
    "        board_id = 'board_FT232H1'\n",
    "    elif sensor in [13,14,15,19,20,21]:\n",
    "        board_id = 'board_FT232H2'\n",
    "    elif sensor in [16,17,18,22,23,24]:\n",
    "        board_id = 'board_FT232H3'\n",
    "    try:\n",
    "        data_by_animal[animal] = data_dict[board_id][f\"sensor_{sensor}\"]\n",
    "    except KeyError as e:\n",
    "        print(f\"Missing key in data_dict: {e}\")"
   ]
  },
  {
   "cell_type": "code",
   "execution_count": 8,
   "id": "df6bd76b",
   "metadata": {},
   "outputs": [],
   "source": [
    "data_by_animal['A7']['time_data'] = data_by_animal['A7']['time_data'][1000:]\n",
    "data_by_animal['A7']['cap_data'] = data_by_animal['A7']['cap_data'][1000:]\n",
    "\n",
    "for (animal, data) in data_by_animal.items():\n",
    "    data['time_data'] = data['time_data'][:-250]\n",
    "    data['cap_data'] = data['cap_data'][:-250]"
   ]
  },
  {
   "cell_type": "code",
   "execution_count": 9,
   "id": "2dd7ceec",
   "metadata": {},
   "outputs": [
    {
     "name": "stdout",
     "output_type": "stream",
     "text": [
      "length of lick_times: 329\n",
      "length of lick_times: 149\n",
      "length of lick_times: 167\n",
      "length of lick_times: 247\n",
      "length of lick_times: 66\n",
      "length of lick_times: 165\n",
      "length of lick_times: 268\n",
      "length of lick_times: 155\n",
      "length of lick_times: 184\n",
      "length of lick_times: 250\n",
      "length of lick_times: 189\n",
      "length of lick_times: 120\n",
      "length of lick_times: 69\n",
      "length of lick_times: 161\n",
      "length of lick_times: 68\n",
      "length of lick_times: 196\n",
      "length of lick_times: 141\n",
      "length of lick_times: 182\n"
     ]
    }
   ],
   "source": [
    "# Trying a mix of using raw trace and Hilbert envelope to find licks\n",
    "for (animal, data) in data_by_animal.items():\n",
    "    if animal in ['A1', 'A2', 'A3', 'A4', 'A5', 'A6']: continue\n",
    "    fs = data['fs']\n",
    "    trace = data['cap_data']\n",
    "\n",
    "    # 1a) 8–12 Hz band-pass\n",
    "    bh, ah = scs.butter(2, 6, btype='high', fs=fs)\n",
    "    bl, al = scs.butter(2, 14, btype='low', fs=fs)\n",
    "    filtered_data = scs.filtfilt(bh, ah, trace)\n",
    "    filtered_data = scs.filtfilt(bl, al, filtered_data)\n",
    "    filtered_data = [scs.filtfilt(bh, ah, filtered_data) for _ in range(3)][-1]\n",
    "    filtered_data = [scs.filtfilt(bl, al, filtered_data) for _ in range(3)][-1]\n",
    "\n",
    "    # 1b) analytic signal → envelope\n",
    "    env = np.abs(scs.hilbert(filtered_data))\n",
    "\n",
    "    # 2) thresholding\n",
    "    env_thr  = 0.4 * np.max(env)\n",
    "    env_mask = env > env_thr\n",
    "\n",
    "    # 3) Raw threshold crossings\n",
    "    baseline = np.median(trace[:int(fs)])  \n",
    "    depth    = baseline - np.min(trace)\n",
    "    # raw_thr  = baseline - 0.4*depth     # tune the fraction\n",
    "\n",
    "    # where we go from above → below the raw_thr\n",
    "    downs = np.where((trace[:-1] > trace[1:]))[0] + 1\n",
    "\n",
    "    # 4a) gate by envelope mask\n",
    "    candidates = [i for i in downs if env_mask[i]]\n",
    "\n",
    "    # 4b) enforce at least ~80 ms (0.08 s) between licks (mice shouldn't be licking faster than that)\n",
    "    min_dist = int(0.08 * fs)\n",
    "    lick_idxs = []\n",
    "    for idx in candidates:\n",
    "        if not lick_idxs or (idx - lick_idxs[-1]) > min_dist:\n",
    "            lick_idxs.append(idx)\n",
    "\n",
    "    # convert to timestamps\n",
    "    lick_times = np.array(lick_idxs) / fs\n",
    "\n",
    "    data['lick_times'] = lick_times\n",
    "    data['lick_indices'] = lick_idxs\n",
    "\n",
    "    # print(f\"lick_times: {lick_times}\")\n",
    "    num_licks = len(lick_times)\n",
    "    data['num_licks'] = num_licks\n",
    "    print(f\"length of lick_times: {num_licks}\")\n"
   ]
  },
  {
   "cell_type": "code",
   "execution_count": 39,
   "id": "6ce302f2",
   "metadata": {},
   "outputs": [
    {
     "data": {
      "text/plain": [
       "[Text(0.5, 1.0, 'A9')]"
      ]
     },
     "execution_count": 39,
     "metadata": {},
     "output_type": "execute_result"
    },
    {
     "data": {
      "application/vnd.jupyter.widget-view+json": {
       "model_id": "e57993e6630a4275aa23c9ebdd5da772",
       "version_major": 2,
       "version_minor": 0
      },
      "image/png": "[encoded data removed]",
      "text/html": [
       "\n",
       "            <div style=\"display: inline-block;\">\n",
       "                <div class=\"jupyter-widgets widget-label\" style=\"text-align: center;\">\n",
       "                    Figure\n",
       "                </div>\n",
       "                <img src='data:image/png;base64,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' width=640.0/>\n",
       "            </div>\n",
       "        "
      ],
      "text/plain": [
       "Canvas(toolbar=Toolbar(toolitems=[('Home', 'Reset original view', 'home', 'home'), ('Back', 'Back to previous …"
      ]
     },
     "metadata": {},
     "output_type": "display_data"
    }
   ],
   "source": [
    "%matplotlib widget\n",
    "\n",
    "# Make an interactive plot of a single animal's data\n",
    "animal = 'A9'\n",
    "masked_data = data_by_animal[animal]['cap_data'][data_by_animal[animal]['lick_indices']]\n",
    "masked_time = data_by_animal[animal]['time_data'][data_by_animal[animal]['lick_indices']]\n",
    "\n",
    "fig, ax = plt.subplots(nrows=1)\n",
    "ax.plot(data_by_animal[animal]['time_data'], data_by_animal[animal]['cap_data'])\n",
    "ax.scatter(masked_time, masked_data, c='red')\n",
    "ax.set(title=animal)\n",
    "# plt.savefig(f\"Recording Figures/{animal}_recording_{recording_datetime}.png\", dpi=300)\n",
    "# plt.close(fig)"
   ]
  },
  {
   "cell_type": "code",
   "execution_count": 64,
   "id": "c41e1dca",
   "metadata": {},
   "outputs": [],
   "source": [
    "%matplotlib widget\n",
    "# fig, axes = plt.subplots(nrows=len(data_by_animal.keys()), figsize=(10,10))\n",
    "# plt.subplots_adjust(hspace=0.5)\n",
    "\n",
    "for animal, data in data_by_animal.items():\n",
    "    if animal in ['A1', 'A2', 'A3', 'A4', 'A5', 'A6']: continue\n",
    "    lick_indices = data['lick_indices']\n",
    "    masked_data = data['cap_data'][lick_indices]\n",
    "    masked_time = data['time_data'][lick_indices]\n",
    "    # masked_data = data['cap_data'][data['peaks']]\n",
    "    # masked_time = data['time_data'][data['peaks']]\n",
    "    \n",
    "    fig, ax = plt.subplots(nrows=1)\n",
    "    ax.plot(data['time_data'], data['cap_data'])\n",
    "    ax.scatter(masked_time, masked_data, c='red')\n",
    "    ax.set(title=animal)\n",
    "    plt.savefig(f\"Recording Figures/{animal}_recording_{recording_datetime}.png\", dpi=300)\n",
    "    plt.close(fig)"
   ]
  },
  {
   "cell_type": "code",
   "execution_count": null,
   "id": "89f5f9fd",
   "metadata": {},
   "outputs": [],
   "source": [
    "%matplotlib widget\n",
    "# fig, axes = plt.subplots(nrows=len(data_by_animal.keys()), figsize=(10,10))\n",
    "# plt.subplots_adjust(hspace=0.5)\n",
    "\n",
    "for animal, data in data_by_animal.items():\n",
    "    if animal in ['A1', 'A2', 'A3', 'A4', 'A5', 'A6']: continue\n",
    "    masked_data = data['cap_data'][data['peaks']]\n",
    "    masked_time = data['time_data'][data['peaks']]\n",
    "    \n",
    "    fig, ax = plt.subplots(nrows=1)\n",
    "    ax.plot(data['time_data'], data['cap_data'])\n",
    "    ax.scatter(masked_time, masked_data, c='red')\n",
    "    ax.set(title=animal)\n",
    "    plt.savefig(f\"Recording Figures/{animal}_recording_{recording_datetime}.png\", dpi=300)\n",
    "    plt.close(fig)"
   ]
  },
  {
   "cell_type": "code",
   "execution_count": 12,
   "id": "5af99ada-a9c6-43fd-8d39-97131976d1ec",
   "metadata": {},
   "outputs": [],
   "source": [
    "consumed_vols = []\n",
    "licks = []\n",
    "for animal, data in data_by_animal.items():\n",
    "    if animal in ['A1', 'A2', 'A3', 'A4', 'A5', 'A6']: continue\n",
    "\n",
    "    consumed_vols.append(data['consumed_vol'])\n",
    "    licks.append(data['num_licks'])"
   ]
  },
  {
   "cell_type": "code",
   "execution_count": 13,
   "id": "684cf5b6-a7f2-498a-b9d0-adf04bf176a3",
   "metadata": {},
   "outputs": [],
   "source": [
    "res = pearsonr(consumed_vols, licks)"
   ]
  },
  {
   "cell_type": "code",
   "execution_count": 14,
   "id": "73553a75-f40a-4d10-bf91-7c6023496f55",
   "metadata": {},
   "outputs": [
    {
     "data": {
      "text/plain": [
       "np.float64(0.6149719969652621)"
      ]
     },
     "execution_count": 14,
     "metadata": {},
     "output_type": "execute_result"
    }
   ],
   "source": [
    "res.statistic"
   ]
  },
  {
   "cell_type": "code",
   "execution_count": 27,
   "id": "11dfcd90-e5a7-4428-ac0c-312b3946a6c8",
   "metadata": {},
   "outputs": [
    {
     "data": {
      "text/plain": [
       "np.float64(0.3781905570514423)"
      ]
     },
     "execution_count": 27,
     "metadata": {},
     "output_type": "execute_result"
    }
   ],
   "source": [
    "res.statistic**2"
   ]
  },
  {
   "cell_type": "code",
   "execution_count": null,
   "id": "6efa897c",
   "metadata": {},
   "outputs": [],
   "source": []
  }
 ],
 "metadata": {
  "kernelspec": {
   "display_name": "Python 3 (ipykernel)",
   "language": "python",
   "name": "python3"
  },
  "language_info": {
   "codemirror_mode": {
    "name": "ipython",
    "version": 3
   },
   "file_extension": ".py",
   "mimetype": "text/x-python",
   "name": "python",
   "nbconvert_exporter": "python",
   "pygments_lexer": "ipython3",
   "version": "3.12.7"
  }
 },
 "nbformat": 4,
 "nbformat_minor": 5
}
